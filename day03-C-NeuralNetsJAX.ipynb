{
 "cells": [
  {
   "cell_type": "markdown",
   "id": "5ef0264b",
   "metadata": {},
   "source": [
    "# Neural nets from scratch in JAX\n",
    "\n",
    "In this notebook, we'll cover\n",
    "\n",
    "* Part 0: Simple neural network data struct via a list-of-dicts (which JAX views as a PyTree)\n",
    "* Part 1: Prediction with neural nets\n",
    "* Part 2: Training neural nets\n",
    "* * 2A: Fitting 0-hidden-layer NNs\n",
    "* * 2B: Fitting 1-hidden-layer NNs with 16 units\n",
    "* Part 3: Speeding up training by ~60x with `jax.jit()`\n",
    "\n",
    "# Prerequisites\n",
    "\n",
    "We're expecting you've already seen Neural Nets in a previous ML course.\n",
    "\n",
    "This notebook is a practical refresher, showing how we can implement non-trivial feed-forward neural nets \"from scratch\"\n",
    "\n",
    "You should have already completed the [day03-A : Auto Diff with JAX](https://github.com/tufts-ml-courses/cs152BDL-22f-assignments/blob/main/day03-A-AutoDifferentiationJAX.ipynb) notebook, where you'd learn:\n",
    "\n",
    "* how to use `jax.grad(...)`\n",
    "* what a PyTree is within the jax library\n",
    "\n",
    "You should have also completed the [day03-B : Gradient Descent with JAX](https://github.com/tufts-ml-courses/cs152BDL-22f-assignments/blob/main/day03-B-GradientDescentJAX.ipynb) notebook, where you'd refresh on\n",
    "\n",
    "* basics of gradient descent\n",
    "* how we can use toy data to create testbeds for learning algorithms\n",
    "\n",
    "We'll use the same toy data in this notebook."
   ]
  },
  {
   "cell_type": "markdown",
   "id": "47cbd97d",
   "metadata": {},
   "source": [
    "# Requirements\n",
    "\n",
    "There are two ways to run this notebook\n",
    "\n",
    "<table style=\"table-medium\">\n",
    "    <tr>\n",
    "        <td style=\"align:left; text-align:left;\"> <h2> Run in-browser (no install necessary) </h2>\n",
    "        </td>\n",
    "        <td style=\"align:left; text-align:left;\"> <h2> Run locally on your computer </h2>\n",
    "        </td>        \n",
    "    </tr>\n",
    "    <tr>\n",
    "         <td style=\"align:left; text-align:left;\">\n",
    "             <p>You can use <a href=\"https://colab.research.google.com/\">Google Colab </a> </p>\n",
    "             <p>You'll need:</p>\n",
    "             <ul>\n",
    "             <li> internet connection </li>\n",
    "             <li>  Modern browser (Firefox, Chrome, Safari, Edge, etc) </li>\n",
    "             <li> Google account </li>\n",
    "             <li> Warning: session will timeout after 12 hours, or sooner if inactive </li>\n",
    "             <li> Plan to save work if you want it later </li>\n",
    "         </ul></td>\n",
    "         <td style=\"align:left; text-align:left;\">\n",
    "             <p>You can use <a href=\"https://jupyter.org/\">Jupyter notebook </a> </p>\n",
    "             <p>You'll need:</p>             <ul>\n",
    "             <li> Linux, Mac OS or other modern Unix-based OS (sorry, Windows + JAX is difficult) </li>\n",
    "             <li> Conda package manager </li>\n",
    "             <li> Python 3.8+ </li>\n",
    "             <li> All packages from <a href=\"https://www.cs.tufts.edu/comp/152BDL/2022f/bdl_2022f_env.html\">bdl_2022f_env</a> \n",
    "                 , see <a href=\"https://www.cs.tufts.edu/comp/152BDL/2022f/setup_python_env.html\">\n",
    "                 Install Instructions on Course Website </a>\n",
    "             </li>\n",
    "         </ul></td>\n",
    "    </tr>\n",
    "</table>\n"
   ]
  },
  {
   "cell_type": "code",
   "execution_count": 1,
   "id": "cd1eb149",
   "metadata": {},
   "outputs": [],
   "source": [
    "# Import numpy and other basic libraries\n",
    "import numpy as np\n",
    "import pandas as pd\n",
    "import time, os, platform"
   ]
  },
  {
   "cell_type": "code",
   "execution_count": 2,
   "id": "e18b6675",
   "metadata": {},
   "outputs": [],
   "source": [
    "## Import JAX\n",
    "import jax.numpy as jnp\n",
    "import jax"
   ]
  },
  {
   "cell_type": "code",
   "execution_count": 3,
   "id": "0ad69ed6",
   "metadata": {},
   "outputs": [],
   "source": [
    "# Import packages for plotting\n",
    "import matplotlib\n",
    "import matplotlib.pyplot as plt\n",
    "import seaborn as sns\n",
    "sns.set_style(\"whitegrid\")\n",
    "sns.set_context(\"notebook\", font_scale=1.25)"
   ]
  },
  {
   "cell_type": "markdown",
   "id": "a59c2a6f",
   "metadata": {},
   "source": [
    "## Report OS and CPU information"
   ]
  },
  {
   "cell_type": "code",
   "execution_count": 4,
   "id": "31f35a1b",
   "metadata": {},
   "outputs": [
    {
     "name": "stdout",
     "output_type": "stream",
     "text": [
      "========== Information about OS and CPU ==========\n",
      "Node Name: Michaels-MacBook-Pro-2.local\n",
      "System: Darwin\n",
      "Version: Darwin Kernel Version 20.6.0: Tue Feb 22 21:10:41 PST 2022; root:xnu-7195.141.26~1/RELEASE_X86_64\n",
      "Machine: x86_64  Processor: i386\n",
      "Num cores:  8\n"
     ]
    }
   ],
   "source": [
    "uname = platform.uname()\n",
    "B = 10\n",
    "print(\"=\"*B, \"Information about OS and CPU\", \"=\"*B)\n",
    "print(f\"Node Name: {uname.node}\")\n",
    "print(f\"System: {uname.system}\")\n",
    "print(f\"Version: {uname.version}\")\n",
    "print(f\"Machine: {uname.machine}  Processor: {uname.processor}\")\n",
    "print(\"Num cores: \", os.cpu_count())"
   ]
  },
  {
   "cell_type": "markdown",
   "id": "9058ce0d",
   "metadata": {},
   "source": [
    "## Report exact versions of required packages in local env"
   ]
  },
  {
   "cell_type": "code",
   "execution_count": 5,
   "id": "6ad2c698",
   "metadata": {},
   "outputs": [
    {
     "name": "stdout",
     "output_type": "stream",
     "text": [
      "========== Packages in local env ==========\n",
      "       numpy 1.22.4\n",
      "         jax 0.3.17\n",
      "  matplotlib 3.5.2\n",
      "     seaborn 0.11.2\n"
     ]
    }
   ],
   "source": [
    "print(\"=\"*B, \"Packages in local env\", \"=\"*B)\n",
    "for pkg in [np, jax, matplotlib, sns]:\n",
    "  print(\"%12s %s\" % (pkg.__name__, pkg.__version__))"
   ]
  },
  {
   "cell_type": "markdown",
   "id": "33549536",
   "metadata": {},
   "source": [
    "# Part 0: List-of-dicts PyTree as a data struct for a Neural Net"
   ]
  },
  {
   "cell_type": "markdown",
   "id": "ad373a07",
   "metadata": {},
   "source": [
    "### Function to create a neural net of desired size"
   ]
  },
  {
   "cell_type": "code",
   "execution_count": 6,
   "id": "2c20542f",
   "metadata": {},
   "outputs": [],
   "source": [
    "def make_nn_params_as_list_of_dicts(\n",
    "        n_dims_input=1,\n",
    "        n_dims_output=1,\n",
    "        n_dims_per_hidden_list=[5],\n",
    "        weight_fill_func=np.zeros,\n",
    "        bias_fill_func=np.zeros):\n",
    "    ''' Create a list of dicts structure defining a neural network\n",
    "    \n",
    "    Args\n",
    "    ----\n",
    "    n_dims_input : int\n",
    "    n_dims_output : int\n",
    "    n_hiddens_per_layer_list : list of int\n",
    "    weight_fill_func : callable, like np.zeros\n",
    "    bias_fill_func : callable, like np.zeros\n",
    "    \n",
    "    Returns\n",
    "    -------\n",
    "    nn_params : list of dicts\n",
    "        Each dict has two keys, 'w' and 'b', for weights and biases\n",
    "        The values are arrays of the specified shape.\n",
    "    '''\n",
    "    nn_param_list = []\n",
    "    n_per_layer_list = [n_dims_input] + n_dims_per_hidden_list + [n_dims_output]\n",
    "\n",
    "    # Given full network size list is [a, b, c, d, e]\n",
    "    # Loop over adjacent pairs: (a,b) , (b,c) , (c,d) , (d,e)\n",
    "    for n_in, n_out in zip(n_per_layer_list[:-1], n_per_layer_list[1:]):\n",
    "        nn_param_list.append(\n",
    "            dict(\n",
    "                w=weight_fill_func((n_in, n_out)),\n",
    "                b=bias_fill_func((n_out,)),\n",
    "            ))\n",
    "    return nn_param_list"
   ]
  },
  {
   "cell_type": "markdown",
   "id": "5ffd5b58",
   "metadata": {},
   "source": [
    "### Utility func: Pretty print the contents of a list of dicts representation"
   ]
  },
  {
   "cell_type": "code",
   "execution_count": 7,
   "id": "3b9f8842",
   "metadata": {},
   "outputs": [],
   "source": [
    "def pretty_print_nn_param_list(nn_param_list_of_dict):\n",
    "    ''' Create pretty display of the parameters at each layer\n",
    "    '''\n",
    "    with np.printoptions(formatter={'float': '{: 0.3f}'.format}):\n",
    "        for ll, layer_dict in enumerate(nn_param_list_of_dict):\n",
    "            print(\"Layer %d\" % ll)\n",
    "            print(\"  w | shape %9s | %s\" % (layer_dict['w'].shape, layer_dict['w'].flatten()))\n",
    "            print(\"  b | shape %9s | %s\" % (layer_dict['b'].shape, layer_dict['b'].flatten()))"
   ]
  },
  {
   "cell_type": "markdown",
   "id": "c0476610",
   "metadata": {},
   "source": [
    "### Utility funcs: Subtraction and multiplication"
   ]
  },
  {
   "cell_type": "code",
   "execution_count": 8,
   "id": "c28f53ae",
   "metadata": {},
   "outputs": [],
   "source": [
    "def subtract_pytree_and_scalar(a_pytree, b):\n",
    "    ''' Add the same scalar to each element of a pytree\n",
    "    \n",
    "    Args\n",
    "    ----\n",
    "    a_pytree : Pytree\n",
    "    b        : float scalar\n",
    "\n",
    "    Returns\n",
    "    -------\n",
    "    c_pytree : Pytree, same shape as a_pytree\n",
    "        Each elt will satisfy c_pytree = a_pytree - b\n",
    "    '''\n",
    "    return jax.tree_map(lambda a: a - b, a_pytree)\n",
    "\n",
    "def subtract_pytrees(a_pytree, b_pytree):\n",
    "    ''' Subtract one pytree from another\n",
    "    \n",
    "    Args\n",
    "    ----\n",
    "    a_pytree : Pytree\n",
    "    b_pytree : Pytree, same shape as a_pytree\n",
    "    \n",
    "    Returns\n",
    "    -------\n",
    "    c_pytree : Pytree, same shape as a_pytree\n",
    "        Each elt will satisfy c_pytree = a_pytree - b_pytree\n",
    "    '''\n",
    "    return jax.tree_map(lambda a,b: a - b, a_pytree, b_pytree)"
   ]
  },
  {
   "cell_type": "code",
   "execution_count": 9,
   "id": "ab9e355e",
   "metadata": {},
   "outputs": [],
   "source": [
    "def multiply_pytree_and_scalar(a_pytree, b):\n",
    "    ''' Multiply the same scalar to each element of a pytree\n",
    "    \n",
    "    Args\n",
    "    ----\n",
    "    a_pytree : Pytree\n",
    "    b        : float scalar\n",
    "\n",
    "    Returns\n",
    "    -------\n",
    "    c_pytree : Pytree, same shape as a_pytree\n",
    "        Each elt will satisfy c_pytree = a_pytree * b\n",
    "    '''\n",
    "    return jax.tree_map(lambda a: a * b, a_pytree)\n",
    "\n",
    "def eltwise_multiply_pytrees(a_pytree, b_pytree):\n",
    "    ''' Multiply corresponding elts of two pytrees\n",
    "    \n",
    "    Args\n",
    "    ----\n",
    "    a_pytree : Pytree\n",
    "    b_pytree : Pytree, same shape as a_pytree\n",
    "    \n",
    "    Returns\n",
    "    -------\n",
    "    c_pytree : Pytree, same shape as a_pytree\n",
    "        Each elt will satisfy c_pytree = a_pytree * b_pytree\n",
    "    '''\n",
    "    return jax.tree_map(lambda a,b: a*b,\n",
    "            a_pytree, b_pytree,\n",
    "        )"
   ]
  },
  {
   "cell_type": "markdown",
   "id": "176323d7",
   "metadata": {},
   "source": [
    "### Example: NN for 1 input, 1 output and no hidden layers\n",
    "\n",
    "For univariate regression: 1D -> 1D\n",
    "\n",
    "Will fill all parameters with zeros by default"
   ]
  },
  {
   "cell_type": "code",
   "execution_count": 10,
   "id": "83e92cca",
   "metadata": {},
   "outputs": [],
   "source": [
    "nn11_params = make_nn_params_as_list_of_dicts(\n",
    "    n_dims_input=1,\n",
    "    n_dims_output=1,\n",
    "    n_dims_per_hidden_list=[])"
   ]
  },
  {
   "cell_type": "code",
   "execution_count": 11,
   "id": "548d7e14",
   "metadata": {},
   "outputs": [
    {
     "data": {
      "text/plain": [
       "[{'w': array([[0.]]), 'b': array([0.])}]"
      ]
     },
     "execution_count": 11,
     "metadata": {},
     "output_type": "execute_result"
    }
   ],
   "source": [
    "nn11_params"
   ]
  },
  {
   "cell_type": "code",
   "execution_count": 12,
   "id": "494fc493",
   "metadata": {},
   "outputs": [
    {
     "name": "stdout",
     "output_type": "stream",
     "text": [
      "Layer 0\n",
      "  w | shape    (1, 1) | [ 0.000]\n",
      "  b | shape      (1,) | [ 0.000]\n"
     ]
    }
   ],
   "source": [
    "pretty_print_nn_param_list(nn11_params)"
   ]
  },
  {
   "cell_type": "markdown",
   "id": "73ab1ade",
   "metadata": {},
   "source": [
    "### Example: NN for 3 input, 1 output and no hidden layers\n",
    "\n",
    "For regression problems that project 3D -> 1D"
   ]
  },
  {
   "cell_type": "code",
   "execution_count": 13,
   "id": "f5f0422b",
   "metadata": {},
   "outputs": [
    {
     "name": "stdout",
     "output_type": "stream",
     "text": [
      "Layer 0\n",
      "  w | shape    (3, 1) | [ 0.000  0.000  0.000]\n",
      "  b | shape      (1,) | [ 0.000]\n"
     ]
    }
   ],
   "source": [
    "nn31_params = make_nn_params_as_list_of_dicts(\n",
    "    n_dims_input=3,\n",
    "    n_dims_output=1,\n",
    "    n_dims_per_hidden_list=[])\n",
    "pretty_print_nn_param_list(nn31_params)"
   ]
  },
  {
   "cell_type": "markdown",
   "id": "1548316c",
   "metadata": {},
   "source": [
    "### Example: NN for 3 input, 1 output and 1 hidden layer of size 4\n"
   ]
  },
  {
   "cell_type": "code",
   "execution_count": 14,
   "id": "c8d91d59",
   "metadata": {},
   "outputs": [
    {
     "name": "stdout",
     "output_type": "stream",
     "text": [
      "Layer 0\n",
      "  w | shape    (3, 4) | [ 0.000  0.000  0.000  0.000  0.000  0.000  0.000  0.000  0.000  0.000\n",
      "  0.000  0.000]\n",
      "  b | shape      (4,) | [ 0.000  0.000  0.000  0.000]\n",
      "Layer 1\n",
      "  w | shape    (4, 1) | [ 0.000  0.000  0.000  0.000]\n",
      "  b | shape      (1,) | [ 0.000]\n"
     ]
    }
   ],
   "source": [
    "nn341_params = make_nn_params_as_list_of_dicts(\n",
    "    n_dims_input=3,\n",
    "    n_dims_output=1,\n",
    "    n_dims_per_hidden_list=[4])\n",
    "pretty_print_nn_param_list(nn341_params)"
   ]
  },
  {
   "cell_type": "markdown",
   "id": "ada0dc3e",
   "metadata": {},
   "source": [
    "### Same as above, but fill with random values from interval [-1, 1]"
   ]
  },
  {
   "cell_type": "code",
   "execution_count": 15,
   "id": "37f92841",
   "metadata": {},
   "outputs": [],
   "source": [
    "fill_random_between_neg_one_and_one = lambda shape: np.random.RandomState(0)\\\n",
    "    .uniform(low=-1, high=1, size=shape)\n",
    "fill_random_between_neg_tenth_and_tenth = lambda shape: np.random.RandomState(0)\\\n",
    "    .uniform(low=-.1, high=.1, size=shape)"
   ]
  },
  {
   "cell_type": "code",
   "execution_count": 16,
   "id": "81d83af7",
   "metadata": {},
   "outputs": [
    {
     "name": "stdout",
     "output_type": "stream",
     "text": [
      "Layer 0\n",
      "  w | shape    (3, 4) | [ 0.098  0.430  0.206  0.090 -0.153  0.292 -0.125  0.784  0.927 -0.233\n",
      "  0.583  0.058]\n",
      "  b | shape      (4,) | [ 0.098  0.430  0.206  0.090]\n",
      "Layer 1\n",
      "  w | shape    (4, 1) | [ 0.098  0.430  0.206  0.090]\n",
      "  b | shape      (1,) | [ 0.098]\n"
     ]
    }
   ],
   "source": [
    "nn341_params = make_nn_params_as_list_of_dicts(\n",
    "    n_dims_input=3,\n",
    "    n_dims_output=1,\n",
    "    n_dims_per_hidden_list=[4],\n",
    "    weight_fill_func=fill_random_between_neg_one_and_one,\n",
    "    bias_fill_func=fill_random_between_neg_one_and_one)\n",
    "pretty_print_nn_param_list(nn341_params)"
   ]
  },
  {
   "cell_type": "markdown",
   "id": "6e550d56",
   "metadata": {},
   "source": [
    "### NN for 3 input, 1 output with 7 layers of different sizes"
   ]
  },
  {
   "cell_type": "code",
   "execution_count": 17,
   "id": "a7886798",
   "metadata": {},
   "outputs": [
    {
     "name": "stdout",
     "output_type": "stream",
     "text": [
      "Layer 0\n",
      "  w | shape    (1, 2) | [ 0.000  0.000]\n",
      "  b | shape      (2,) | [ 0.000  0.000]\n",
      "Layer 1\n",
      "  w | shape    (2, 4) | [ 0.000  0.000  0.000  0.000  0.000  0.000  0.000  0.000]\n",
      "  b | shape      (4,) | [ 0.000  0.000  0.000  0.000]\n",
      "Layer 2\n",
      "  w | shape    (4, 8) | [ 0.000  0.000  0.000  0.000  0.000  0.000  0.000  0.000  0.000  0.000\n",
      "  0.000  0.000  0.000  0.000  0.000  0.000  0.000  0.000  0.000  0.000\n",
      "  0.000  0.000  0.000  0.000  0.000  0.000  0.000  0.000  0.000  0.000\n",
      "  0.000  0.000]\n",
      "  b | shape      (8,) | [ 0.000  0.000  0.000  0.000  0.000  0.000  0.000  0.000]\n",
      "Layer 3\n",
      "  w | shape    (8, 2) | [ 0.000  0.000  0.000  0.000  0.000  0.000  0.000  0.000  0.000  0.000\n",
      "  0.000  0.000  0.000  0.000  0.000  0.000]\n",
      "  b | shape      (2,) | [ 0.000  0.000]\n",
      "Layer 4\n",
      "  w | shape    (2, 8) | [ 0.000  0.000  0.000  0.000  0.000  0.000  0.000  0.000  0.000  0.000\n",
      "  0.000  0.000  0.000  0.000  0.000  0.000]\n",
      "  b | shape      (8,) | [ 0.000  0.000  0.000  0.000  0.000  0.000  0.000  0.000]\n",
      "Layer 5\n",
      "  w | shape    (8, 4) | [ 0.000  0.000  0.000  0.000  0.000  0.000  0.000  0.000  0.000  0.000\n",
      "  0.000  0.000  0.000  0.000  0.000  0.000  0.000  0.000  0.000  0.000\n",
      "  0.000  0.000  0.000  0.000  0.000  0.000  0.000  0.000  0.000  0.000\n",
      "  0.000  0.000]\n",
      "  b | shape      (4,) | [ 0.000  0.000  0.000  0.000]\n",
      "Layer 6\n",
      "  w | shape    (4, 2) | [ 0.000  0.000  0.000  0.000  0.000  0.000  0.000  0.000]\n",
      "  b | shape      (2,) | [ 0.000  0.000]\n",
      "Layer 7\n",
      "  w | shape    (2, 1) | [ 0.000  0.000]\n",
      "  b | shape      (1,) | [ 0.000]\n"
     ]
    }
   ],
   "source": [
    "nn_params = make_nn_params_as_list_of_dicts(\n",
    "    n_dims_input=1,\n",
    "    n_dims_output=1,\n",
    "    n_dims_per_hidden_list=[2, 4, 8, 2, 8, 4, 2])\n",
    "pretty_print_nn_param_list(nn_params)"
   ]
  },
  {
   "cell_type": "markdown",
   "id": "1be85a74",
   "metadata": {},
   "source": [
    "# Part 1: Prediction with Neural Nets"
   ]
  },
  {
   "cell_type": "markdown",
   "id": "6c818e63",
   "metadata": {},
   "source": [
    "### Use the tanh function as activation"
   ]
  },
  {
   "cell_type": "code",
   "execution_count": 18,
   "id": "5c57820d",
   "metadata": {},
   "outputs": [
    {
     "data": {
      "image/png": "[encoded data removed]",
      "text/plain": [
       "<Figure size 432x288 with 1 Axes>"
      ]
     },
     "metadata": {
      "needs_background": "light"
     },
     "output_type": "display_data"
    }
   ],
   "source": [
    "H = 101\n",
    "in_H = np.linspace(-5, 5, H)\n",
    "out_H = jnp.tanh(in_H);\n",
    "plt.plot(in_H, out_H, 'k.-');"
   ]
  },
  {
   "cell_type": "markdown",
   "id": "fb28e79d",
   "metadata": {},
   "source": [
    "### Define function for prediction"
   ]
  },
  {
   "cell_type": "code",
   "execution_count": 19,
   "id": "32b5b5ab",
   "metadata": {},
   "outputs": [],
   "source": [
    "def predict_y_given_x_with_NN(x=None, nn_param_list=None, activation_func=jnp.tanh):\n",
    "    \"\"\" Predict y value given x value via feed-forward neural net\n",
    "    \n",
    "    Args\n",
    "    ----\n",
    "    x_ND : 2D array, shape (N,D) = (n_examples, n_input_dims)\n",
    "        D-dim feature vector for each example\n",
    "    nn_param_list : list of dict\n",
    "        Parameters of neural network\n",
    "    activation_func : callable\n",
    "        Activation function of the neural net\n",
    "        Must be differentiable using jax.grad\n",
    "\n",
    "    Returns\n",
    "    -------\n",
    "    y_N : 1D array, shape (N,) = (n_examples,)\n",
    "        Predicted value for each example\n",
    "    \"\"\"\n",
    "    n_layers = len(nn_param_list)\n",
    "    in_arr = jnp.atleast_2d(x)\n",
    "    for layer_id, layer_dict in enumerate(nn_param_list):\n",
    "        out_arr = jnp.dot(in_arr, layer_dict['w']) + layer_dict['b']\n",
    "        if layer_id < n_layers:\n",
    "            in_arr = activation_func(out_arr)\n",
    "    # Squeeze so returned shape becomes (n_dims_out,) not (n_dims_out,1)\n",
    "    return jnp.squeeze(out_arr)"
   ]
  },
  {
   "cell_type": "markdown",
   "id": "e9136a84",
   "metadata": {},
   "source": [
    "### Create Toy Dataset of (x,y) via linear regression"
   ]
  },
  {
   "cell_type": "code",
   "execution_count": 20,
   "id": "a91f3428",
   "metadata": {},
   "outputs": [],
   "source": [
    "N = 300\n",
    "D = 2\n",
    "sigma = 0.1\n",
    "\n",
    "true_w_D = np.asarray([.42, -.42])\n",
    "\n",
    "train_prng = np.random.RandomState(0)\n",
    "x_ND = train_prng.uniform(low=-3, high=3, size=(N,D))\n",
    "y_N = np.dot(x_ND, true_w_D) + sigma * train_prng.randn(N)"
   ]
  },
  {
   "cell_type": "markdown",
   "id": "2750ee52",
   "metadata": {},
   "source": [
    "### Create NN with no hiddens, filled with the true params used to create our data\n",
    "\n",
    "Goal here is to verify we can almost perfectly predict the observed data (since we're using the true model)"
   ]
  },
  {
   "cell_type": "code",
   "execution_count": 21,
   "id": "1ff2e945",
   "metadata": {},
   "outputs": [],
   "source": [
    "true_nn_params = make_nn_params_as_list_of_dicts(\n",
    "    n_dims_input=2,\n",
    "    n_dims_output=1,\n",
    "    n_dims_per_hidden_list=[])\n",
    "true_nn_params[0]['w'][:] = true_w_D[:,np.newaxis]\n",
    "true_nn_params[0]['b'][:] = 0.0"
   ]
  },
  {
   "cell_type": "code",
   "execution_count": 22,
   "id": "99fcd514",
   "metadata": {},
   "outputs": [],
   "source": [
    "yhat_N = predict_y_given_x_with_NN(x_ND, true_nn_params)\n",
    "assert yhat_N.size == N"
   ]
  },
  {
   "cell_type": "code",
   "execution_count": 23,
   "id": "6a580c9b",
   "metadata": {},
   "outputs": [
    {
     "data": {
      "image/png": "[encoded data removed]",
      "text/plain": [
       "<Figure size 432x288 with 1 Axes>"
      ]
     },
     "metadata": {
      "needs_background": "light"
     },
     "output_type": "display_data"
    }
   ],
   "source": [
    "plt.plot(yhat_N, y_N, 'k.')\n",
    "plt.ylabel('true y')\n",
    "plt.xlabel('predicted y|x');\n",
    "plt.axis('equal'); plt.xticks([-4, -2, 0, 2, 4]); plt.yticks([-4, -2, 0, 2, 4]);"
   ]
  },
  {
   "cell_type": "markdown",
   "id": "1e79f91b",
   "metadata": {},
   "source": [
    "### Create NN filled with random weight values\n",
    "\n",
    "Goal is to understand how accurate a \"random\" neural net would be"
   ]
  },
  {
   "cell_type": "code",
   "execution_count": 24,
   "id": "b044987d",
   "metadata": {},
   "outputs": [],
   "source": [
    "rand_nn_params = make_nn_params_as_list_of_dicts(\n",
    "    n_dims_input=2,\n",
    "    n_dims_output=1,\n",
    "    n_dims_per_hidden_list=[2],\n",
    "    weight_fill_func=fill_random_between_neg_one_and_one,\n",
    "    bias_fill_func=fill_random_between_neg_one_and_one)"
   ]
  },
  {
   "cell_type": "code",
   "execution_count": 25,
   "id": "be073eae",
   "metadata": {},
   "outputs": [],
   "source": [
    "yhat_N = predict_y_given_x_with_NN(x_ND, rand_nn_params)\n",
    "assert yhat_N.size == N"
   ]
  },
  {
   "cell_type": "code",
   "execution_count": 26,
   "id": "0c0cd2c4",
   "metadata": {},
   "outputs": [
    {
     "data": {
      "image/png": "[encoded data removed]",
      "text/plain": [
       "<Figure size 432x288 with 1 Axes>"
      ]
     },
     "metadata": {
      "needs_background": "light"
     },
     "output_type": "display_data"
    }
   ],
   "source": [
    "plt.plot(yhat_N, y_N, 'k.')\n",
    "plt.ylabel('true y')\n",
    "plt.xlabel('predicted y|x');\n",
    "plt.axis('equal'); plt.xticks([-4, -2, 0, 2, 4]); plt.yticks([-4, -2, 0, 2, 4]);"
   ]
  },
  {
   "cell_type": "markdown",
   "id": "87daad2b",
   "metadata": {},
   "source": [
    "# Part 2: Training a Neural Net via gradient descent"
   ]
  },
  {
   "cell_type": "markdown",
   "id": "e362c51d",
   "metadata": {},
   "source": [
    "### Define loss function as per-example squared error"
   ]
  },
  {
   "cell_type": "markdown",
   "id": "183eb8d8",
   "metadata": {},
   "source": [
    "We can define the following:\n",
    "\n",
    "* Parameters $\\theta$ : All the weights and bias parameters of our neural net\n",
    "\n",
    "* Loss function $\\mathcal{L}(\\theta)$\n",
    "$$\\mathcal{L}(\\theta; \\mathbf{x}_{1:N}, \\mathbf{y}_{1:N}) = -\\frac{1}{2 \\sigma^2} \\frac{1}{N} \\sum_{n=1}^N (y_n - f_{\\theta}(x_n))^2\n",
    "$$\n",
    "\n",
    "Training optimization problem:\n",
    "\n",
    "$$\n",
    "\\arg,\\min_{\\theta} \\mathcal{L}( \\theta )\n",
    "$$"
   ]
  },
  {
   "cell_type": "code",
   "execution_count": 27,
   "id": "adce8c56",
   "metadata": {},
   "outputs": [],
   "source": [
    "def calc_loss__mean_squared_error(nn_param_pytree):\n",
    "    ''' Calculate the mean squared error loss \n",
    "    \n",
    "    Args\n",
    "    ----\n",
    "    nn_param_pytree : PyTree list of dict\n",
    "        Neural net\n",
    "        \n",
    "    Returns\n",
    "    -------\n",
    "    error : scalar float\n",
    "        Mean squared error value on our dataset\n",
    "    '''\n",
    "    yhat_N = predict_y_given_x_with_NN(x_ND, nn_param_pytree)\n",
    "    assert yhat_N.shape == y_N.shape\n",
    "    mean_squared_error = 0.5 / jnp.square(sigma) * jnp.mean(jnp.square(y_N - yhat_N))\n",
    "    return mean_squared_error"
   ]
  },
  {
   "cell_type": "markdown",
   "id": "46e705ed",
   "metadata": {},
   "source": [
    "### Use jax.value_and_grad to compute the grad alongside the loss\n",
    "\n",
    "JAX's built-in `value_and_grad` will compute the loss function and its grad in one function,\n",
    "returning a tuple containing the loss (as a scalar float) and the gradient (as a pytree)\n",
    "\n",
    "Using this one function is more efficient if we're ALWAYS going to ask for both loss and gradient.\n",
    "\n",
    "Otherwise, we'd redundantly do multiple forward passes thru the network (one for calc_loss, one for calc_grad)\n",
    "\n"
   ]
  },
  {
   "cell_type": "code",
   "execution_count": 28,
   "id": "836f5730",
   "metadata": {},
   "outputs": [],
   "source": [
    "calc_loss_and_grad = jax.value_and_grad(calc_loss__mean_squared_error)"
   ]
  },
  {
   "cell_type": "code",
   "execution_count": 29,
   "id": "fe7dd0c7",
   "metadata": {},
   "outputs": [],
   "source": [
    "loss, g = calc_loss_and_grad(rand_nn_params)"
   ]
  },
  {
   "cell_type": "code",
   "execution_count": 30,
   "id": "13268bd5",
   "metadata": {},
   "outputs": [
    {
     "data": {
      "text/plain": [
       "DeviceArray(51.312622, dtype=float32)"
      ]
     },
     "execution_count": 30,
     "metadata": {},
     "output_type": "execute_result"
    }
   ],
   "source": [
    "loss"
   ]
  },
  {
   "cell_type": "markdown",
   "id": "2371523a",
   "metadata": {},
   "source": [
    "### Define a gradient descent procedure that uses our list-of-dicts representation"
   ]
  },
  {
   "cell_type": "code",
   "execution_count": 31,
   "id": "f320d187",
   "metadata": {},
   "outputs": [],
   "source": [
    "def run_many_iters_of_grad_descent(\n",
    "        calc_loss_and_grad,\n",
    "        init_nn_param_pytree,\n",
    "        n_iters=100, step_size=0.001,\n",
    "        print_every=None):\n",
    "    ''' Run many iterations of gradient descent\n",
    "    \n",
    "    Args\n",
    "    ----\n",
    "    calc_loss_and_grad : function\n",
    "        Computes the loss and gradient that we want to minimize\n",
    "        By using ONE function, we can avoid duplicating passes thru our neural net (saving time)\n",
    "        \n",
    "    init_nn_param_pytree : PyTree list of dicts\n",
    "        Initial value of neural net parameters\n",
    "    \n",
    "    Returns\n",
    "    -------\n",
    "    opt_nn_param_pytree : PyTree list of dicts\n",
    "        Final value of neural net parameters\n",
    "        If converged, should be local optima of loss function\n",
    "    history : dict of lists\n",
    "        Provides history of the function value and other useful summaries\n",
    "    '''\n",
    "    # Copy the initial parameters\n",
    "    nn_param_pytree = multiply_pytree_and_scalar(init_nn_param_pytree, 1.0)\n",
    "    \n",
    "    # Create data structs to track per-iteration history\n",
    "    # of different quantities\n",
    "    history = dict(\n",
    "        iter=[],\n",
    "        loss=[],\n",
    "        param_values=[],\n",
    "        gradient_values=[])\n",
    "\n",
    "    start_time = time.time()\n",
    "    grad_pytree = None # Will be overwritten later\n",
    "    for iter_id in range(n_iters+1):\n",
    "        if iter_id > 0:                \n",
    "            # x <- x - step_size * g\n",
    "            nn_param_pytree = subtract_pytrees(nn_param_pytree,\n",
    "                multiply_pytree_and_scalar(grad_pytree, step_size))\n",
    "\n",
    "        loss, grad_pytree = calc_loss_and_grad(nn_param_pytree)\n",
    "        history['iter'].append(iter_id)\n",
    "        history['loss'].append(loss)\n",
    "        history['param_values'].append(nn_param_pytree)\n",
    "        history['gradient_values'].append(grad_pytree)\n",
    "        \n",
    "        if isinstance(print_every, int) and iter_id % print_every == 0:\n",
    "            print(\"iter %4d/%d after %5.1f sec : loss %11.6f\" % (\n",
    "                iter_id, n_iters, time.time() - start_time, history['loss'][-1]))\n",
    "    return nn_param_pytree, history"
   ]
  },
  {
   "cell_type": "markdown",
   "id": "6592d3ba",
   "metadata": {},
   "source": [
    "## Example 2A: Linear regression with our Neural Net framework\n",
    "\n",
    "We'll use the above procedures to fit a 0-hidden-layer neural network\n",
    "\n",
    "This is just a sanity check to be sure everything is working."
   ]
  },
  {
   "cell_type": "markdown",
   "id": "f61930d6",
   "metadata": {},
   "source": [
    "### First, try with initialization to TRUE PARAMETERS"
   ]
  },
  {
   "cell_type": "code",
   "execution_count": 32,
   "id": "4ada748d",
   "metadata": {},
   "outputs": [
    {
     "name": "stdout",
     "output_type": "stream",
     "text": [
      "INITIAL PARAMETERS (true)\n",
      "Layer 0\n",
      "  w | shape    (2, 1) | [ 0.420 -0.420]\n",
      "  b | shape      (1,) | [ 0.000]\n"
     ]
    }
   ],
   "source": [
    "print(\"INITIAL PARAMETERS (true)\")\n",
    "pretty_print_nn_param_list(true_nn_params)"
   ]
  },
  {
   "cell_type": "code",
   "execution_count": null,
   "id": "b3dc57ba",
   "metadata": {},
   "outputs": [
    {
     "name": "stdout",
     "output_type": "stream",
     "text": [
      "iter    0/200 after   0.1 sec : loss    0.544268\n",
      "iter   10/200 after   0.2 sec : loss    0.533351\n",
      "iter   20/200 after   0.2 sec : loss    0.532404\n",
      "iter   30/200 after   0.3 sec : loss    0.532289\n",
      "iter   40/200 after   0.3 sec : loss    0.532275\n",
      "iter   50/200 after   0.4 sec : loss    0.532273\n",
      "iter   60/200 after   0.4 sec : loss    0.532273\n"
     ]
    }
   ],
   "source": [
    "fromtrue_opt_nn_params, fromtrue_history = run_many_iters_of_grad_descent(\n",
    "    calc_loss_and_grad,\n",
    "    true_nn_params,\n",
    "    n_iters=200,\n",
    "    step_size=0.001,\n",
    "    print_every=10)"
   ]
  },
  {
   "cell_type": "code",
   "execution_count": null,
   "id": "aa0584ee",
   "metadata": {},
   "outputs": [],
   "source": [
    "print(\"\\nFINAL PARAMETERS from true init\")\n",
    "pretty_print_nn_param_list(fromtrue_opt_nn_params)"
   ]
  },
  {
   "cell_type": "markdown",
   "id": "790df8cd",
   "metadata": {},
   "source": [
    "### Now, try with initialization to ALL ZEROS"
   ]
  },
  {
   "cell_type": "code",
   "execution_count": null,
   "id": "68c5ab72",
   "metadata": {},
   "outputs": [],
   "source": [
    "zero_nn_params = make_nn_params_as_list_of_dicts(\n",
    "    n_dims_input=2,\n",
    "    n_dims_output=1,\n",
    "    n_dims_per_hidden_list=[],\n",
    "    weight_fill_func=np.zeros,\n",
    "    bias_fill_func=np.zeros)\n",
    "\n",
    "print(\"INITIAL PARAMETERS (all zero)\")\n",
    "pretty_print_nn_param_list(zero_nn_params)"
   ]
  },
  {
   "cell_type": "code",
   "execution_count": null,
   "id": "bb0b8624",
   "metadata": {},
   "outputs": [],
   "source": [
    "fromzero_opt_nn_params, fromzero_history = run_many_iters_of_grad_descent(\n",
    "    calc_loss_and_grad,\n",
    "    zero_nn_params,\n",
    "    n_iters=200,\n",
    "    step_size=0.0005,\n",
    "    print_every=10)\n",
    "\n",
    "print(\"\\nFINAL PARAMETERS from all-zero init\")\n",
    "pretty_print_nn_param_list(fromzero_opt_nn_params)"
   ]
  },
  {
   "cell_type": "markdown",
   "id": "9f623e5a",
   "metadata": {},
   "source": [
    "### Fig 2A(i): History of the loss over iterations from all-zero init"
   ]
  },
  {
   "cell_type": "code",
   "execution_count": null,
   "id": "8bf79fae",
   "metadata": {},
   "outputs": [],
   "source": [
    "plt.plot(fromzero_history['iter'], fromzero_history['loss'], 'b-')\n",
    "plt.xlabel('iter');\n",
    "plt.ylabel('loss');\n",
    "plt.ylim([0, 2.]); # Truncate the y-axis to focus on later stages of learning"
   ]
  },
  {
   "cell_type": "markdown",
   "id": "d35010bd",
   "metadata": {},
   "source": [
    "### Fig 2A(ii): Predictive scatterplot at select iterations"
   ]
  },
  {
   "cell_type": "code",
   "execution_count": null,
   "id": "6e111bd0",
   "metadata": {},
   "outputs": [],
   "source": [
    "_, axgrid = plt.subplots(nrows=1, ncols=5, sharex=True, sharey=True, figsize=(16, 3))\n",
    "for ii, iternum in enumerate([0, 2, 10, 100, 200]):\n",
    "    yhat_N = predict_y_given_x_with_NN(x_ND, fromzero_history['param_values'][iternum])\n",
    "    ax = axgrid[ii]\n",
    "    ax.plot(yhat_N, y_N, 'k.')\n",
    "\n",
    "    if ii == 0:\n",
    "        ax.set_ylabel('true y')\n",
    "    ax.set_xlabel('predicted y|x');\n",
    "    ax.set_xticks([-4, -2, 0, 2, 4]); ax.set_yticks([-4, -2, 0, 2, 4]);\n",
    "    ax.set_title(\"iter %d\\nloss % .3f\" % (iternum, fromzero_history['loss'][iternum]))"
   ]
  },
  {
   "cell_type": "markdown",
   "id": "b42f8682",
   "metadata": {},
   "source": [
    "## Example 2B: Regression with a 2-16-1 neural network\n",
    "\n",
    "Let's try to fit a more complex neural network, with 16 hidden units\n",
    "\n",
    "Yes, the true data is linear, but we should be able to fit that well even though our model is non-linear."
   ]
  },
  {
   "cell_type": "code",
   "execution_count": null,
   "id": "866c903c",
   "metadata": {},
   "outputs": [],
   "source": [
    "rand_nn_params = make_nn_params_as_list_of_dicts(\n",
    "    n_dims_input=2,\n",
    "    n_dims_output=1,\n",
    "    n_dims_per_hidden_list=[16],\n",
    "    weight_fill_func=fill_random_between_neg_tenth_and_tenth,\n",
    "    bias_fill_func=np.zeros)\n",
    "\n",
    "print(\"INITIAL PARAMETERS\")\n",
    "pretty_print_nn_param_list(rand_nn_params)"
   ]
  },
  {
   "cell_type": "markdown",
   "id": "aa856645",
   "metadata": {},
   "source": [
    "### Run gradient descent from this random init\n",
    "\n",
    "This should take about 1-4 minutes to complete on a modern computer.\n",
    "\n",
    "Note: choice of init/step size is much more sensitive here..."
   ]
  },
  {
   "cell_type": "code",
   "execution_count": null,
   "id": "d387391e",
   "metadata": {},
   "outputs": [],
   "source": [
    "fromrand_opt_nn_params, fromrand_history = run_many_iters_of_grad_descent(\n",
    "    calc_loss_and_grad,\n",
    "    rand_nn_params,\n",
    "    n_iters=5000,\n",
    "    step_size=0.0008,\n",
    "    print_every=200)"
   ]
  },
  {
   "cell_type": "markdown",
   "id": "a4735212",
   "metadata": {},
   "source": [
    "### Fig 2B(i): History of the loss"
   ]
  },
  {
   "cell_type": "code",
   "execution_count": null,
   "id": "e212da2e",
   "metadata": {},
   "outputs": [],
   "source": [
    "plt.plot(fromrand_history['iter'], fromrand_history['loss'], 'b-')\n",
    "plt.xlabel('iter');\n",
    "plt.ylabel('loss');\n",
    "plt.ylim([0, 2.]); # Truncate the y-axis to focus on later stages of learning"
   ]
  },
  {
   "cell_type": "markdown",
   "id": "889031f0",
   "metadata": {},
   "source": [
    "### Fig 2B(ii): History of the sum of absolute values of the gradient"
   ]
  },
  {
   "cell_type": "code",
   "execution_count": null,
   "id": "a96af119",
   "metadata": {},
   "outputs": [],
   "source": [
    "# To better understand convergence, we often plot the gradient over time\n",
    "# for NNs with many parameters, we can look at the sum of absolute values of the gradient\n",
    "fromrand_history['gradL1norm'] = []\n",
    "for grad_pytree in fromrand_history['gradient_values']:\n",
    "    list_of_arr = jax.tree_util.tree_leaves(grad_pytree)\n",
    "    fromrand_history['gradL1norm'].append(np.sum([np.sum(np.abs(a)) for a in list_of_arr]))"
   ]
  },
  {
   "cell_type": "code",
   "execution_count": null,
   "id": "9311d21c",
   "metadata": {},
   "outputs": [],
   "source": [
    "plt.plot(fromrand_history['iter'], fromrand_history['gradL1norm'], 'b-')\n",
    "plt.xlabel('iter');\n",
    "plt.ylabel('L1 norm of grad');\n",
    "plt.ylim([0, 2.]); # Truncate the y-axis to focus on later stages of learning"
   ]
  },
  {
   "cell_type": "markdown",
   "id": "debc8ca0",
   "metadata": {},
   "source": [
    "### Fig 2B(iii): Predictive scatterplot at select iterations"
   ]
  },
  {
   "cell_type": "code",
   "execution_count": null,
   "id": "45d03d68",
   "metadata": {},
   "outputs": [],
   "source": [
    "_, axgrid = plt.subplots(nrows=1, ncols=5, sharex=True, sharey=True, figsize=(16, 3))\n",
    "for ii, iternum in enumerate([0, 10, 100, 1000, 5000]):\n",
    "    yhat_N = predict_y_given_x_with_NN(x_ND, fromrand_history['param_values'][iternum])\n",
    "    ax = axgrid[ii]\n",
    "    ax.plot(yhat_N, y_N, 'k.')\n",
    "\n",
    "    if ii == 0:\n",
    "        ax.set_ylabel('true y')\n",
    "    ax.set_xlabel('predicted y|x');\n",
    "    ax.set_xticks([-4, -2, 0, 2, 4]); ax.set_yticks([-4, -2, 0, 2, 4]);\n",
    "    ax.set_title(\"iter %d\\nloss % .3f\" % (iternum, fromrand_history['loss'][iternum]))"
   ]
  },
  {
   "cell_type": "markdown",
   "id": "b38163bf",
   "metadata": {},
   "source": [
    "### Concept Check 1: Does your gradient descent appear to have converged?"
   ]
  },
  {
   "cell_type": "markdown",
   "id": "08ced695",
   "metadata": {},
   "source": [
    "TODO your answer here"
   ]
  },
  {
   "cell_type": "markdown",
   "id": "b3679ad4",
   "metadata": {},
   "source": [
    "### Concept Check 2: What do you notice about sensitivity to init, step size, etc?"
   ]
  },
  {
   "cell_type": "markdown",
   "id": "8ed18c7e",
   "metadata": {},
   "source": [
    "TODO your answer here"
   ]
  },
  {
   "cell_type": "markdown",
   "id": "9e9c4528",
   "metadata": {},
   "source": [
    "### Concept Check 3: Is the final neural net's performance any better than the linear model?"
   ]
  },
  {
   "cell_type": "markdown",
   "id": "a9d6d4e7",
   "metadata": {},
   "source": [
    "TODO your answer here"
   ]
  },
  {
   "cell_type": "markdown",
   "id": "943cdf08",
   "metadata": {},
   "source": [
    "# Part 3: Speeding up training with `jax.jit`\n",
    "\n",
    "JAX offers a **just-in-time** (JIT) compilation transformation, known as `jax.jit`\n",
    "\n",
    "For more, read about JIT here:\n",
    "https://jax.readthedocs.io/en/latest/jax-101/02-jitting.html"
   ]
  },
  {
   "cell_type": "code",
   "execution_count": null,
   "id": "270785b1",
   "metadata": {},
   "outputs": [],
   "source": [
    "print(\"INITIAL PARAMETERS\")\n",
    "pretty_print_nn_param_list(rand_nn_params)"
   ]
  },
  {
   "cell_type": "markdown",
   "id": "9100e3f5",
   "metadata": {},
   "source": [
    "## Speed test: using standard \"calc_loss_and_grad\"\n",
    "\n",
    "We'll run 1000 iters of gradient descent using our 2-16-1 neural net"
   ]
  },
  {
   "cell_type": "code",
   "execution_count": null,
   "id": "4a30af39",
   "metadata": {},
   "outputs": [],
   "source": [
    "_, _ = run_many_iters_of_grad_descent(\n",
    "    calc_loss_and_grad,\n",
    "    rand_nn_params,\n",
    "    step_size=0.0008,\n",
    "    n_iters=1000,\n",
    "    print_every=500)"
   ]
  },
  {
   "cell_type": "markdown",
   "id": "72146852",
   "metadata": {},
   "source": [
    "## Speed test: using `jax.jit(calc_loss_and_grad)`\n",
    "\n",
    "We'll run 1000 iters of gradient descent using our 2-16-1 neural net, using our FASTER jit-ified calc_loss_and_grad"
   ]
  },
  {
   "cell_type": "code",
   "execution_count": null,
   "id": "c1286d60",
   "metadata": {},
   "outputs": [],
   "source": [
    "# Prepare the faster version by calling jax.jit\n",
    "fast_loss_and_grad = jax.jit(calc_loss_and_grad)\n",
    "\n",
    "# Call it once, might help speedup future calls\n",
    "fast_loss_and_grad(rand_nn_params);"
   ]
  },
  {
   "cell_type": "code",
   "execution_count": null,
   "id": "7f54ae11",
   "metadata": {},
   "outputs": [],
   "source": [
    "_, _ = run_many_iters_of_grad_descent(\n",
    "    fast_loss_and_grad,\n",
    "    rand_nn_params,\n",
    "    step_size=0.0008,\n",
    "    n_iters=1000,\n",
    "    print_every=500)"
   ]
  },
  {
   "cell_type": "markdown",
   "id": "04cb8ee2",
   "metadata": {},
   "source": [
    "### Exercise 3A: How much speedup did you observe?\n",
    "\n",
    "On your instructors' late 2019 macbook pro, we see that `jit` yields a speedup of roughly 50-60x\n"
   ]
  },
  {
   "cell_type": "code",
   "execution_count": null,
   "id": "5800fdef",
   "metadata": {},
   "outputs": [],
   "source": []
  }
 ],
 "metadata": {
  "kernelspec": {
   "display_name": "Python 3 (ipykernel)",
   "language": "python",
   "name": "python3"
  },
  "language_info": {
   "codemirror_mode": {
    "name": "ipython",
    "version": 3
   },
   "file_extension": ".py",
   "mimetype": "text/x-python",
   "name": "python",
   "nbconvert_exporter": "python",
   "pygments_lexer": "ipython3",
   "version": "3.8.0"
  }
 },
 "nbformat": 4,
 "nbformat_minor": 5
}
