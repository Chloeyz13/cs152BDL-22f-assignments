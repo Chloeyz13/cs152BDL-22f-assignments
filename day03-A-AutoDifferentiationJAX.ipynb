{
 "cells": [
  {
   "cell_type": "markdown",
   "id": "5b8d1477",
   "metadata": {},
   "source": [
    "# day03 A - Automatic Differentiation with JAX"
   ]
  },
  {
   "cell_type": "markdown",
   "id": "04f17fc4",
   "metadata": {},
   "source": [
    "In this notebook, we'll practice\n",
    "\n",
    "* Part 0: Using **jax** for numpy-like array manipulation\n",
    "* Part 1: Using **jax.grad** to compute gradients of univariate functions\n",
    "* Part 2: Using **jax.grad** to compute gradients of multivariate functions of arrays\n",
    "* Part 3: Using **jax.grad** to compute gradients of multivariate functions using PyTree data structs (dict, list, etc)"
   ]
  },
  {
   "cell_type": "markdown",
   "id": "00f3a610",
   "metadata": {},
   "source": [
    "# Requirements\n",
    "\n",
    "#### Run via your browser on a cloud CPU: No Install necessary!\n",
    "\n",
    "Open [this notebook on Google Colab](#TODO)\n",
    "\n",
    "#### Installing on your own laptop:\n",
    "\n",
    "Follow Python environment setup instructions here:\n",
    "\n",
    "https://www.cs.tufts.edu/comp/152BDL/2022f/setup_python_env.html\n",
    "\n",
    "That step will install all the specific Python packages you'll need, which are listed in this conda environment:\n",
    "\n",
    "https://www.cs.tufts.edu/comp/152BDL/2022f/notebooks/bdl_basic_env.yml\n",
    "\n",
    "# Part 0: Brief intro to JAX \n",
    "\n",
    "It is safe to say that NumPy is the foundation of modern data science in Python\n",
    "\n",
    "JAX is a recent Python library made available by researchers at Google\n",
    "\n",
    "You can view JAX as a library that **expands NumPy** with two exciting features:\n",
    "\n",
    "* Automatic differentiation (we'll use this A LOT in the BDL course)\n",
    "* Huge Speed Acceleration via just-in-time compilation and [XLA](https://www.tensorflow.org/xla) (this may be useful in BDL)\n",
    "\n",
    "As they say in the project tagline:\n",
    "\n",
    "> JAX is NumPy on the CPU, GPU, and TPU, with great automatic differentiation for high-performance machine learning research.\n",
    "\n",
    "There are already many great resources about JAX, including:\n",
    "\n",
    "* the JAX docs: https://jax.readthedocs.io/en/latest/notebooks/quickstart.html\n",
    "* the sourcecode itself: https://github.com/google/jax\n",
    "\n",
    "This notebook (and later ones in this series) intend to be self-contained intros to the concepts you'll need to understand for our Bayesian Deep Learning course"
   ]
  },
  {
   "cell_type": "code",
   "execution_count": 1,
   "id": "e7ba355f",
   "metadata": {},
   "outputs": [],
   "source": [
    "# Import numpy for arrays\n",
    "import numpy as np\n",
    "\n",
    "# Import pandas for reading/writing tabular data\n",
    "import pandas as pd\n",
    "\n",
    "# Import info about the local OS\n",
    "import os, platform"
   ]
  },
  {
   "cell_type": "code",
   "execution_count": 2,
   "id": "428725ba",
   "metadata": {},
   "outputs": [],
   "source": [
    "## Import JAX\n",
    "import jax.numpy as jnp\n",
    "import jax"
   ]
  },
  {
   "cell_type": "code",
   "execution_count": 3,
   "id": "7766d95f",
   "metadata": {},
   "outputs": [],
   "source": [
    "import matplotlib\n",
    "import matplotlib.pyplot as plt\n",
    "import seaborn as sns\n",
    "sns.set_style(\"whitegrid\")\n",
    "sns.set_context(\"notebook\", font_scale=1.25)"
   ]
  },
  {
   "cell_type": "markdown",
   "id": "580e02df",
   "metadata": {},
   "source": [
    "### Report OS and CPU information"
   ]
  },
  {
   "cell_type": "code",
   "execution_count": 4,
   "id": "edea1a97",
   "metadata": {},
   "outputs": [],
   "source": [
    "B = 10"
   ]
  },
  {
   "cell_type": "code",
   "execution_count": 5,
   "id": "16268258",
   "metadata": {},
   "outputs": [
    {
     "name": "stdout",
     "output_type": "stream",
     "text": [
      "========== Information about OS and CPU ==========\n",
      "Node Name: Michaels-MacBook-Pro-2.local\n",
      "System: Darwin\n",
      "Version: Darwin Kernel Version 20.6.0: Tue Feb 22 21:10:41 PST 2022; root:xnu-7195.141.26~1/RELEASE_X86_64\n",
      "Machine: x86_64  Processor: i386\n",
      "Physical cores:  8\n"
     ]
    }
   ],
   "source": [
    "uname = platform.uname()\n",
    "print(\"=\"*B, \"Information about OS and CPU\", \"=\"*B)\n",
    "print(f\"Node Name: {uname.node}\")\n",
    "print(f\"System: {uname.system}\")\n",
    "print(f\"Version: {uname.version}\")\n",
    "print(f\"Machine: {uname.machine}  Processor: {uname.processor}\")\n",
    "print(\"Physical cores: \", os.cpu_count())"
   ]
  },
  {
   "cell_type": "markdown",
   "id": "4a7b604b",
   "metadata": {},
   "source": [
    "### Report exact versions of required packages in local environment"
   ]
  },
  {
   "cell_type": "code",
   "execution_count": 6,
   "id": "d521b933",
   "metadata": {},
   "outputs": [
    {
     "name": "stdout",
     "output_type": "stream",
     "text": [
      "========== Packages in local env ==========\n",
      "       numpy 1.22.4\n",
      "         jax 0.3.17\n",
      "  matplotlib 3.5.2\n",
      "     seaborn 0.11.2\n"
     ]
    }
   ],
   "source": [
    "print(\"=\"*B, \"Packages in local env\", \"=\"*B)\n",
    "for pkg in [np, jax, matplotlib, sns]:\n",
    "  print(\"%12s %s\" % (pkg.__name__, pkg.__version__))"
   ]
  },
  {
   "cell_type": "markdown",
   "id": "04e0ee2b",
   "metadata": {},
   "source": [
    "## JAX's numpy wrapper (`jnp`) mostly behaves like numpy\n",
    "\n",
    "## Examples: Manipulating scalars in JAX"
   ]
  },
  {
   "cell_type": "code",
   "execution_count": 7,
   "id": "befad76b",
   "metadata": {},
   "outputs": [
    {
     "data": {
      "text/plain": [
       "DeviceArray(0.09, dtype=float32, weak_type=True)"
      ]
     },
     "execution_count": 7,
     "metadata": {},
     "output_type": "execute_result"
    }
   ],
   "source": [
    "jnp.square(.3)"
   ]
  },
  {
   "cell_type": "code",
   "execution_count": 8,
   "id": "19c165a2",
   "metadata": {},
   "outputs": [
    {
     "data": {
      "text/plain": [
       "DeviceArray(0.5403023, dtype=float32, weak_type=True)"
      ]
     },
     "execution_count": 8,
     "metadata": {},
     "output_type": "execute_result"
    }
   ],
   "source": [
    "jnp.cos(1.0)"
   ]
  },
  {
   "cell_type": "code",
   "execution_count": 9,
   "id": "d31bb9c0",
   "metadata": {},
   "outputs": [
    {
     "data": {
      "text/plain": [
       "DeviceArray(7.389056, dtype=float32, weak_type=True)"
      ]
     },
     "execution_count": 9,
     "metadata": {},
     "output_type": "execute_result"
    }
   ],
   "source": [
    "jnp.exp(2.0)"
   ]
  },
  {
   "cell_type": "markdown",
   "id": "d4693563",
   "metadata": {},
   "source": [
    "## Examples: Manipulating arrays in JAX"
   ]
  },
  {
   "cell_type": "code",
   "execution_count": 10,
   "id": "7153b4fa",
   "metadata": {},
   "outputs": [
    {
     "data": {
      "text/plain": [
       "array([[1., 0., 0.],\n",
       "       [0., 2., 0.],\n",
       "       [0., 0., 3.]])"
      ]
     },
     "execution_count": 10,
     "metadata": {},
     "output_type": "execute_result"
    }
   ],
   "source": [
    "D = 3\n",
    "a_DD = np.diag(np.asarray([1., 2., 3.]))\n",
    "a_DD"
   ]
  },
  {
   "cell_type": "code",
   "execution_count": 11,
   "id": "48a18525",
   "metadata": {},
   "outputs": [
    {
     "data": {
      "text/plain": [
       "array([ 5., 10., 20.])"
      ]
     },
     "execution_count": 11,
     "metadata": {},
     "output_type": "execute_result"
    }
   ],
   "source": [
    "b_D = np.asarray([5.0, 10.0, 20.])\n",
    "b_D"
   ]
  },
  {
   "cell_type": "code",
   "execution_count": 12,
   "id": "e06ffc27",
   "metadata": {},
   "outputs": [
    {
     "data": {
      "text/plain": [
       "DeviceArray([ 5., 10., 20.], dtype=float32)"
      ]
     },
     "execution_count": 12,
     "metadata": {},
     "output_type": "execute_result"
    }
   ],
   "source": [
    "jnp.asarray(b_D)"
   ]
  },
  {
   "cell_type": "code",
   "execution_count": 13,
   "id": "b2a317d3",
   "metadata": {},
   "outputs": [
    {
     "data": {
      "text/plain": [
       "DeviceArray(35., dtype=float32)"
      ]
     },
     "execution_count": 13,
     "metadata": {},
     "output_type": "execute_result"
    }
   ],
   "source": [
    "jnp.sum(b_D)"
   ]
  },
  {
   "cell_type": "markdown",
   "id": "6f80525a",
   "metadata": {},
   "source": [
    "### Matrix multiplication"
   ]
  },
  {
   "cell_type": "code",
   "execution_count": 14,
   "id": "f39eb783",
   "metadata": {},
   "outputs": [
    {
     "data": {
      "text/plain": [
       "DeviceArray([ 5., 20., 60.], dtype=float32)"
      ]
     },
     "execution_count": 14,
     "metadata": {},
     "output_type": "execute_result"
    }
   ],
   "source": [
    "jnp.dot(a_DD, b_D)"
   ]
  },
  {
   "cell_type": "markdown",
   "id": "c3600675",
   "metadata": {},
   "source": [
    "### Inverse of matrix in JAX"
   ]
  },
  {
   "cell_type": "code",
   "execution_count": 15,
   "id": "65d5fdcc",
   "metadata": {},
   "outputs": [
    {
     "data": {
      "text/plain": [
       "DeviceArray([[1.        , 0.        , 0.        ],\n",
       "             [0.        , 0.5       , 0.        ],\n",
       "             [0.        , 0.        , 0.33333334]], dtype=float32)"
      ]
     },
     "execution_count": 15,
     "metadata": {},
     "output_type": "execute_result"
    }
   ],
   "source": [
    "jnp.linalg.inv(a_DD)"
   ]
  },
  {
   "cell_type": "markdown",
   "id": "a5b7d4b4",
   "metadata": {},
   "source": [
    "## Gotcha 1:  Always provide array types, not lists of floats"
   ]
  },
  {
   "cell_type": "code",
   "execution_count": 16,
   "id": "3d94fff6",
   "metadata": {},
   "outputs": [
    {
     "data": {
      "text/plain": [
       "array([ 5., 10., 20.])"
      ]
     },
     "execution_count": 16,
     "metadata": {},
     "output_type": "execute_result"
    }
   ],
   "source": [
    "b_D"
   ]
  },
  {
   "cell_type": "code",
   "execution_count": 17,
   "id": "a54123f5",
   "metadata": {},
   "outputs": [
    {
     "data": {
      "text/plain": [
       "DeviceArray(35., dtype=float32)"
      ]
     },
     "execution_count": 17,
     "metadata": {},
     "output_type": "execute_result"
    }
   ],
   "source": [
    "# We CAN provide a NUMPY.NDARRAY of floats\n",
    "jnp.sum(np.asarray(b_D))"
   ]
  },
  {
   "cell_type": "code",
   "execution_count": 18,
   "id": "9c08e1f1",
   "metadata": {},
   "outputs": [
    {
     "data": {
      "text/plain": [
       "DeviceArray(35., dtype=float32)"
      ]
     },
     "execution_count": 18,
     "metadata": {},
     "output_type": "execute_result"
    }
   ],
   "source": [
    "# We CAN provide a JAX.DeviceArray of floats\n",
    "jnp.sum(jnp.asarray(b_D))"
   ]
  },
  {
   "cell_type": "code",
   "execution_count": 19,
   "id": "2b3fbf41",
   "metadata": {},
   "outputs": [
    {
     "name": "stdout",
     "output_type": "stream",
     "text": [
      "TypeError: sum requires ndarray or scalar arguments, got <class 'list'> at position 0.\n"
     ]
    }
   ],
   "source": [
    "# We CANNOT provide a list of floats\n",
    "try:\n",
    "    jnp.sum(list(b_D))\n",
    "except TypeError as e:\n",
    "    print(\"TypeError: \" + str(e))"
   ]
  },
  {
   "cell_type": "markdown",
   "id": "8f921de3",
   "metadata": {},
   "source": [
    "# Part 1: Calling 'jax.grad' on univariate functions\n",
    "\n",
    "Suppose we have a mathematical function of interest $f(x)$.\n",
    "\n",
    "For example, let's consider $f(x) = cos(x^2)$\n",
    "\n",
    "For now, we'll work with functions that have a scalar input and scalar output. \n",
    "\n",
    "We can of course ask: what is the derivative (aka *gradient*) of this function:\n",
    "\n",
    "$$\n",
    "g(x) \\triangleq \\frac{\\partial}{\\partial x} f(x)\n",
    "$$\n",
    "\n",
    "Instead of computing this gradient by hand via calculus/algebra, we can get the computer to do the hard work for us, using **automatic differentiation**.\n",
    "\n",
    "### Idea 1.1: Implementing the function\n",
    "\n",
    "To get started, we need to implement the math function $f(x)$ as a **Python function** `f`.\n",
    "\n",
    "The Python function `f` needs to satisfy the following requirements:\n",
    "* INPUT 'x': scalar float\n",
    "* OUTPUT 'f(x)': scalar float\n",
    "* All internal operations are composed of calls to functions from `jnp`, the `jax` version of `numpy`\n",
    "\n",
    "**Important: USE jnp NOT np**\n",
    "* You might be used to importing numpy as `import numpy as np`, and then using this shorthand for `np.cos(0.0)` or `np.square(5.0)` etc.\n",
    "* For JAX to work, you need to instead use **jax's** provided numpy wrapper interface: `import jax.numpy as jnp`\n",
    "* The `jnp` module has the same API as `np` for almost all everyday ops, so you can call `jnp.cos(0.0)`, `jnp.square(5.0)`, etc.\n",
    "\n"
   ]
  },
  {
   "cell_type": "markdown",
   "id": "a8641323",
   "metadata": {},
   "source": [
    "### Example 1.1: Square of x"
   ]
  },
  {
   "cell_type": "code",
   "execution_count": 20,
   "id": "a400fbe6",
   "metadata": {},
   "outputs": [],
   "source": [
    "def f_square(x):\n",
    "    return jnp.square(x)"
   ]
  },
  {
   "cell_type": "code",
   "execution_count": 21,
   "id": "7681f3ee",
   "metadata": {},
   "outputs": [
    {
     "data": {
      "text/plain": [
       "DeviceArray(9., dtype=float32, weak_type=True)"
      ]
     },
     "execution_count": 21,
     "metadata": {},
     "output_type": "execute_result"
    }
   ],
   "source": [
    "f_square(3.0)"
   ]
  },
  {
   "cell_type": "markdown",
   "id": "33b9b840",
   "metadata": {},
   "source": [
    "\n",
    "### Idea 1.2: Computing the gradient via automatic differentiation\n",
    "\n",
    "Now, if `f` meeds the above requirements, we can create a Python function `g` to compute derivatives of $f(x)$ by calling `autograd.grad`:\n",
    "\n",
    "```\n",
    "g = jax.grad(f)\n",
    "```\n",
    "\n",
    "The symbol `g` is now a **Python function** that takes the same input as `f`, but produces the derivative at a given input.\n"
   ]
  },
  {
   "cell_type": "markdown",
   "id": "05d971c0",
   "metadata": {},
   "source": [
    "### Example 1.2: Gradient of x^2"
   ]
  },
  {
   "cell_type": "code",
   "execution_count": 22,
   "id": "b616152a",
   "metadata": {},
   "outputs": [],
   "source": [
    "g_square = jax.grad(f_square)"
   ]
  },
  {
   "cell_type": "code",
   "execution_count": 23,
   "id": "de5c9124",
   "metadata": {},
   "outputs": [
    {
     "data": {
      "text/plain": [
       "DeviceArray(6., dtype=float32, weak_type=True)"
      ]
     },
     "execution_count": 23,
     "metadata": {},
     "output_type": "execute_result"
    }
   ],
   "source": [
    "g_square(3.0)"
   ]
  },
  {
   "cell_type": "code",
   "execution_count": 24,
   "id": "ac8433a8",
   "metadata": {},
   "outputs": [
    {
     "data": {
      "text/plain": [
       "DeviceArray(0., dtype=float32, weak_type=True)"
      ]
     },
     "execution_count": 24,
     "metadata": {},
     "output_type": "execute_result"
    }
   ],
   "source": [
    "g_square(0.0)"
   ]
  },
  {
   "cell_type": "markdown",
   "id": "ac92b98b",
   "metadata": {},
   "source": [
    "### Plot: Side-by-side f(x) and g(x)"
   ]
  },
  {
   "cell_type": "code",
   "execution_count": 25,
   "id": "4ce56a86",
   "metadata": {},
   "outputs": [
    {
     "data": {
      "image/png": "[encoded data removed]",
      "text/plain": [
       "<Figure size 792x360 with 2 Axes>"
      ]
     },
     "metadata": {
      "needs_background": "light"
     },
     "output_type": "display_data"
    }
   ],
   "source": [
    "G = 300\n",
    "x_grid_G = np.linspace(-8, 8, G)\n",
    "\n",
    "fig_handle, subplot_grid = plt.subplots(\n",
    "    nrows=1, ncols=2, figsize=(1+10,5),\n",
    "    sharex=True, sharey=True, squeeze=False)\n",
    "subplot_grid[0,0].plot(x_grid_G, [f_square(x_g) for x_g in x_grid_G], 'k-')\n",
    "subplot_grid[0,0].set_title('f(x) = x^2')\n",
    "subplot_grid[0,0].set_xlabel('x')\n",
    "\n",
    "subplot_grid[0,1].plot(x_grid_G, [g_square(x_g) for x_g in x_grid_G], 'b-')\n",
    "subplot_grid[0,1].set_title('gradient of f(x)')\n",
    "subplot_grid[0,1].set_xlabel('x');"
   ]
  },
  {
   "cell_type": "markdown",
   "id": "312ebf5a",
   "metadata": {},
   "source": [
    "## Exercise 1A: Define your own function and gradient\n",
    "\n",
    "Consider the decaying periodic function: \n",
    "\n",
    "$$\n",
    "f(x) = e^{-x/10} * cos(x)\n",
    "$$\n",
    "\n",
    "Can you compute its derivative using autograd and plot the result?\n",
    "\n",
    "\n",
    "TIP: NumPy (and thus JAX) use the `.exp( )` and `.cos( )` functions to compute $e^x$ and $cos(x)$"
   ]
  },
  {
   "cell_type": "code",
   "execution_count": 26,
   "id": "1af84322",
   "metadata": {},
   "outputs": [
    {
     "data": {
      "image/png": "[encoded data removed]",
      "text/plain": [
       "<Figure size 792x360 with 2 Axes>"
      ]
     },
     "metadata": {
      "needs_background": "light"
     },
     "output_type": "display_data"
    }
   ],
   "source": [
    "def f_decay(x):\n",
    "    return 0.0 # TODO compute the decaying periodic function\n",
    "    \n",
    "g_decay = f_decay # TODO define g as gradient of f\n",
    "\n",
    "# Plot the result\n",
    "x_grid_G = np.linspace(-10, 10, G)\n",
    "fig_h, subplot_grid = plt.subplots(\n",
    "    nrows=1, ncols=2, figsize=(1+10,5),\n",
    "    sharex=True, sharey=True, squeeze=False)\n",
    "subplot_grid[0,0].plot(x_grid_G, [f_decay(x_g) for x_g in x_grid_G], 'k.-');\n",
    "subplot_grid[0,0].set_title('f(x)');\n",
    "subplot_grid[0,0].set_xlabel('x');\n",
    "\n",
    "subplot_grid[0,1].plot(x_grid_G, [g_decay(x_g) for x_g in x_grid_G], 'b.-');\n",
    "subplot_grid[0,1].set_title('gradient of f(x)');\n",
    "subplot_grid[0,1].set_xlabel('x');"
   ]
  },
  {
   "attachments": {
    "image.png": {
     "image/png": "[encoded data removed]"
    }
   },
   "cell_type": "markdown",
   "id": "7aa8d7f1",
   "metadata": {},
   "source": [
    "### Ideal Solution\n",
    "\n",
    "You should get something like this:\n",
    "\n",
    "![image.png](attachment:image.png)\n",
    "\n",
    "Note: As expected, the gradient crosses zero whenever the f function reaches a local min or max."
   ]
  },
  {
   "cell_type": "markdown",
   "id": "7a16657f",
   "metadata": {},
   "source": [
    "# Part 2: Using jax.grad on multivariate functions"
   ]
  },
  {
   "cell_type": "markdown",
   "id": "60e1d88d",
   "metadata": {},
   "source": [
    "Now, imagine the input $x$ could be a vector of size D. \n",
    "\n",
    "Our mathematical function $f(x)$ will map each input vector to a scalar.\n",
    "\n",
    "We want the gradient function\n",
    "\n",
    "\\begin{align}\n",
    "g(x) &\\triangleq \\nabla_x f(x)\n",
    "\\\\\n",
    "&= [\n",
    "    \\frac{\\partial}{\\partial x_1} f(x)\n",
    "    \\quad \\frac{\\partial}{\\partial x_2} f(x)\n",
    "    \\quad \\ldots \\quad \\frac{\\partial}{\\partial x_D} f(x)  ]\n",
    "\\end{align}\n",
    "\n",
    "Instead of computing this gradient by hand via calculus/algebra, we can use autograd to do it for us.\n",
    "\n",
    "### Idea 2.1: Implementing the function\n",
    "\n",
    "First, we implement math function $f(x)$ as a **Python function** `f`.\n",
    "\n",
    "Again, the key idea is that we call the `jnp` version of needed subprocedures *everywhere* inside the function"
   ]
  },
  {
   "cell_type": "markdown",
   "id": "50d252e0",
   "metadata": {},
   "source": [
    "### Example 2.1: Compute the sum of squares\n",
    "\n",
    "$$\n",
    "f(x) = \\sum_{d=1}^D x_d^2\n",
    "$$"
   ]
  },
  {
   "cell_type": "code",
   "execution_count": 27,
   "id": "bb011aac",
   "metadata": {},
   "outputs": [],
   "source": [
    "def f_sum_of_squares(x_D):\n",
    "   return jnp.sum(jnp.square(x_D))"
   ]
  },
  {
   "cell_type": "code",
   "execution_count": 28,
   "id": "9816668f",
   "metadata": {},
   "outputs": [
    {
     "name": "stdout",
     "output_type": "stream",
     "text": [
      "[0. 0. 0. 0.]\n",
      "[0. 1. 2.]\n"
     ]
    }
   ],
   "source": [
    "x_allzero_D = np.zeros(4)\n",
    "print(x_allzero_D)\n",
    "\n",
    "x_one_two_three_D = np.arange(3, dtype=np.float32)\n",
    "print(x_one_two_three_D)"
   ]
  },
  {
   "cell_type": "code",
   "execution_count": 29,
   "id": "0f52f43c",
   "metadata": {},
   "outputs": [
    {
     "data": {
      "text/plain": [
       "DeviceArray(0., dtype=float32)"
      ]
     },
     "execution_count": 29,
     "metadata": {},
     "output_type": "execute_result"
    }
   ],
   "source": [
    "f_sum_of_squares(x_allzero_D)"
   ]
  },
  {
   "cell_type": "code",
   "execution_count": 30,
   "id": "983f4965",
   "metadata": {},
   "outputs": [
    {
     "data": {
      "text/plain": [
       "DeviceArray(5., dtype=float32)"
      ]
     },
     "execution_count": 30,
     "metadata": {},
     "output_type": "execute_result"
    }
   ],
   "source": [
    "f_sum_of_squares(x_one_two_three_D)"
   ]
  },
  {
   "cell_type": "markdown",
   "id": "5d785487",
   "metadata": {},
   "source": [
    "### Idea 2.2: Call jax.grad to compute gradient"
   ]
  },
  {
   "cell_type": "code",
   "execution_count": 31,
   "id": "bfcb7b7c",
   "metadata": {},
   "outputs": [],
   "source": [
    "g_sum_of_squares = jax.grad(f_sum_of_squares)"
   ]
  },
  {
   "cell_type": "code",
   "execution_count": 32,
   "id": "b83e3c4b",
   "metadata": {},
   "outputs": [
    {
     "data": {
      "text/plain": [
       "DeviceArray([0., 0., 0., 0.], dtype=float32)"
      ]
     },
     "execution_count": 32,
     "metadata": {},
     "output_type": "execute_result"
    }
   ],
   "source": [
    "g_sum_of_squares(x_allzero_D)"
   ]
  },
  {
   "cell_type": "code",
   "execution_count": 33,
   "id": "54b5fc3a",
   "metadata": {},
   "outputs": [
    {
     "data": {
      "text/plain": [
       "DeviceArray([0., 2., 4.], dtype=float32)"
      ]
     },
     "execution_count": 33,
     "metadata": {},
     "output_type": "execute_result"
    }
   ],
   "source": [
    "g_sum_of_squares(x_one_two_three_D)"
   ]
  },
  {
   "cell_type": "markdown",
   "id": "87720a64",
   "metadata": {},
   "source": [
    "# Part 3: Using jax.grad for functions of pytrees (lists, dicts, tuples)\n",
    "\n",
    "One of the best features of JAX is that it can naturally handle all your favorite Python data structures (like lists or dicts or tuples).\n",
    "\n",
    "This can help us when it is natural to define models as structured compositions of simpler parts (e.g. the layers of a neural net). We don't need to turn our model into one giant flat array of all weights and biases. We can express things more naturally.\n",
    "\n",
    "JAX supports a generic kind of object they call a \"pytree\", which is really any kind of nested container where the constituent elements are either:\n",
    "\n",
    "* a numeric data type that supports differentiation (e.g. a float or an array of floats)\n",
    "* any container types (lists, tuples, dicts, namedtuple, None, OrderedDict)\n",
    "\n",
    "All the classic python data structures like `list`, or `dict` or `tuple` are subsumed as pytrees\n",
    "\n",
    "Nicely, any heterogeneous composition of structures (like a list of dicts or a dict with tuple values) is also a pytree.\n",
    "\n",
    "For Official Docs, see here:\n",
    "https://jax.readthedocs.io/en/latest/jax-101/05.1-pytrees.html"
   ]
  },
  {
   "cell_type": "markdown",
   "id": "4f6e9dc9",
   "metadata": {},
   "source": [
    "### Idea 3.0: JAX pytrees\n",
    "\n",
    "Here's a simple utility method that will pretty-print any PyTree object\n",
    "\n",
    "Essentially, will do a depth-first traversal of the tree, \n",
    "printing each internal node and each leaf as one line."
   ]
  },
  {
   "cell_type": "code",
   "execution_count": 34,
   "id": "9507e452",
   "metadata": {},
   "outputs": [],
   "source": [
    "def pretty_print_pytree(pytree, depth=0, all_leaves=None):\n",
    "    ''' Pretty print PyTree\n",
    "    \n",
    "    Post Condition\n",
    "    --------------\n",
    "    Each internal node is printed as one line, indicating its type\n",
    "    Each leaf element is printed out as one line, indicating its type and its shape\n",
    "    We cast 0-dim arrays to 1-dim so the shapes make sense.\n",
    "    \n",
    "    Returns\n",
    "    -------\n",
    "    None. Prints to stdout.\n",
    "    '''\n",
    "    offset = \"  \" * depth # indent by two spaces for every lower level of the tree\n",
    "    offset_child = offset + \"  \"\n",
    "    print(offset + \"TREE type %s\" % (str(type(pytree))))\n",
    "    rootdef = jax.tree_util.tree_structure(pytree)\n",
    "    if all_leaves is None:\n",
    "        all_leaves = jax.tree_util.tree_leaves(pytree)\n",
    "    \n",
    "    for childdef in jax.tree_util.treedef_children(rootdef):\n",
    "        child = jax.tree_util.tree_unflatten(childdef, np.zeros(childdef.num_leaves))\n",
    "        if jax.tree_util.treedef_is_leaf(childdef):\n",
    "            leaf_arr = np.atleast_1d(np.asarray(all_leaves.pop(0)))\n",
    "            print(offset_child + \"leaf type %s shape %s\" % (\n",
    "                str(type(child)), leaf_arr.shape))\n",
    "        else:\n",
    "            pretty_print_pytree(child, depth+1, all_leaves)\n",
    "        "
   ]
  },
  {
   "cell_type": "code",
   "execution_count": 35,
   "id": "37387192",
   "metadata": {},
   "outputs": [
    {
     "name": "stdout",
     "output_type": "stream",
     "text": [
      "TREE type <class 'list'>\n",
      "  leaf type <class 'numpy.float64'> shape (1,)\n",
      "  leaf type <class 'numpy.float64'> shape (1,)\n",
      "  TREE type <class 'list'>\n",
      "    leaf type <class 'numpy.float64'> shape (1,)\n",
      "    TREE type <class 'list'>\n",
      "      leaf type <class 'numpy.float64'> shape (1,)\n",
      "      leaf type <class 'numpy.float64'> shape (1,)\n",
      "    leaf type <class 'numpy.float64'> shape (1,)\n"
     ]
    }
   ],
   "source": [
    "pretty_print_pytree([1.0, 2.0, [4.0, [11.11, 12.12], 6.0]])"
   ]
  },
  {
   "cell_type": "code",
   "execution_count": 36,
   "id": "d5aa3bb5",
   "metadata": {},
   "outputs": [
    {
     "name": "stdout",
     "output_type": "stream",
     "text": [
      "TREE type <class 'dict'>\n",
      "  leaf type <class 'numpy.float64'> shape (1,)\n",
      "  leaf type <class 'numpy.float64'> shape (2, 3, 2)\n",
      "  TREE type <class 'list'>\n",
      "    leaf type <class 'numpy.float64'> shape (1,)\n",
      "    leaf type <class 'numpy.float64'> shape (3,)\n",
      "    TREE type <class 'tuple'>\n",
      "      leaf type <class 'numpy.float64'> shape (1,)\n",
      "      leaf type <class 'numpy.float64'> shape (1,)\n"
     ]
    }
   ],
   "source": [
    "pretty_print_pytree({\n",
    "    'a':1.0,\n",
    "    'b':np.arange(12).reshape((2,3,2)),\n",
    "    'c':[0.0, np.asarray([3.,3.,3.]), (1.111, 2.222)]})"
   ]
  },
  {
   "cell_type": "markdown",
   "id": "648f34b3",
   "metadata": {},
   "source": [
    "## Idea 3.1: Implementing a function of lists of arrays that is suitable for jax\n",
    "\n",
    "\n",
    "The key ideas here are:\n",
    "\n",
    "* It is fine to use normal Python control flow (if statements, for loops, etc)\n",
    "* Make sure any array operations use `jnp`, not just plain old numpy"
   ]
  },
  {
   "cell_type": "code",
   "execution_count": 37,
   "id": "2e2eb04f",
   "metadata": {},
   "outputs": [],
   "source": [
    "def f_sum_squares_given_list(list_of_arrays):\n",
    "    ''' Compute the sum of squares of all arrays in a list\n",
    "    \n",
    "    Args\n",
    "    ----\n",
    "    list_of_arrays: a list of 1D arrays\n",
    "        Each array can have any number of elements\n",
    "    \n",
    "    Returns\n",
    "    -------\n",
    "    f : scalar float\n",
    "        The sum of squares over all elements of all arrays in provided list\n",
    "    '''\n",
    "    total = 0.0\n",
    "    for arr in list_of_arrays:\n",
    "        total += jnp.sum(jnp.square(arr))\n",
    "    return total"
   ]
  },
  {
   "cell_type": "markdown",
   "id": "2b156158",
   "metadata": {},
   "source": [
    "## Idea 3.2: Call jax.grad to build the gradient-computing function\n",
    "\n",
    "The syntax is the same as before:\n",
    "\n",
    "```\n",
    "        g = jax.grad(f)\n",
    "```\n",
    "\n",
    "The object we get back is again a Python function!\n",
    "\n",
    "The return value of this function has the same nested type/shape as the original input!"
   ]
  },
  {
   "cell_type": "code",
   "execution_count": 38,
   "id": "9b0c8f6a",
   "metadata": {},
   "outputs": [],
   "source": [
    "g_sum_squares_given_list = jax.grad(f_sum_squares_given_list)"
   ]
  },
  {
   "cell_type": "code",
   "execution_count": 39,
   "id": "60e9fd28",
   "metadata": {},
   "outputs": [
    {
     "name": "stdout",
     "output_type": "stream",
     "text": [
      "INPUT LIST OF ARRAYS\n",
      "[array([1., 2., 3., 5.]), array([0., 0., 0., 0., 0.])]\n",
      "GRADIENT OF SUM OF SQUARES\n",
      "[DeviceArray([ 2.,  4.,  6., 10.], dtype=float32), DeviceArray([0., 0., 0., 0., 0.], dtype=float32)]\n"
     ]
    }
   ],
   "source": [
    "### Example with two entries\n",
    "\n",
    "pytree2 = [\n",
    "    np.asarray([1., 2., 3., 5.]),\n",
    "    1.0 * np.zeros(5)]\n",
    "print(\"INPUT LIST OF ARRAYS\")\n",
    "print(pytree2)\n",
    "\n",
    "\n",
    "ans = g_sum_squares_given_list(pytree2)\n",
    "print(\"GRADIENT OF SUM OF SQUARES\")\n",
    "print(ans)"
   ]
  },
  {
   "cell_type": "code",
   "execution_count": 40,
   "id": "67006f47",
   "metadata": {},
   "outputs": [
    {
     "name": "stdout",
     "output_type": "stream",
     "text": [
      "INPUT LIST OF ARRAYS\n",
      "[array([1., 2., 3.]), array([ 5.,  7.,  9., 11.]), array([1., 1.])]\n",
      "GRADIENT OF SUM OF SQUARES\n",
      "[DeviceArray([2., 4., 6.], dtype=float32), DeviceArray([10., 14., 18., 22.], dtype=float32), DeviceArray([2., 2.], dtype=float32)]\n"
     ]
    }
   ],
   "source": [
    "### Example with 3 entries\n",
    "\n",
    "pytree3 = [\n",
    "    np.asarray([1.,2.,3.]),\n",
    "    np.asarray([5., 7., 9., 11.]),\n",
    "    np.asarray([1., 1.]),\n",
    "    ]\n",
    "print(\"INPUT LIST OF ARRAYS\")\n",
    "print(pytree3)\n",
    "\n",
    "\n",
    "ans3 = g_sum_squares_given_list(pytree3)\n",
    "print(\"GRADIENT OF SUM OF SQUARES\")\n",
    "print(ans3)"
   ]
  },
  {
   "cell_type": "markdown",
   "id": "22ea769c",
   "metadata": {},
   "source": [
    "## Idea 3.3: Element-wise operations on pytrees\n",
    "\n",
    "Sometimes we want to:\n",
    "\n",
    "* add something to each element of a pytree\n",
    "* multiply each element by a value\n",
    "* add together the corresponding elements of two pytrees\n",
    "\n",
    "We can easily use JAX to do this!\n",
    "\n",
    "JAX's `jax.tree_map` function makes it easy to perform such operations, as you'll see below."
   ]
  },
  {
   "cell_type": "markdown",
   "id": "fc5bf0e1",
   "metadata": {},
   "source": [
    "### ADDITION utilities"
   ]
  },
  {
   "cell_type": "code",
   "execution_count": 41,
   "id": "67a93be2",
   "metadata": {},
   "outputs": [],
   "source": [
    "def add_pytree_and_scalar(a_pytree, b):\n",
    "    ''' Add the same scalar to each element of a pytree\n",
    "    \n",
    "    Args\n",
    "    ----\n",
    "    a_pytree : Pytree\n",
    "    b        : float scalar\n",
    "\n",
    "    Returns\n",
    "    -------\n",
    "    c_pytree : Pytree (could be a list,\n",
    "        Will be same size as input tree\n",
    "    '''\n",
    "    return jax.tree_map(lambda a: a + b,\n",
    "            a_pytree)\n",
    "\n",
    "def add_pytrees(a_pytree, b_pytree):\n",
    "    ''' Add two pytrees together\n",
    "    \n",
    "    Args\n",
    "    ----\n",
    "    a_pytree : Pytree\n",
    "    b_pytree : Pytree, same shape as a_pytree\n",
    "    \n",
    "    Returns\n",
    "    -------\n",
    "    c_pytree : Pytree (list, dict, etc)\n",
    "        Will be same size as input trees\n",
    "    '''\n",
    "    return jax.tree_map(lambda a,b: a+b,\n",
    "            a_pytree, b_pytree,\n",
    "        )"
   ]
  },
  {
   "cell_type": "code",
   "execution_count": 42,
   "id": "7ab8412d",
   "metadata": {},
   "outputs": [
    {
     "data": {
      "text/plain": [
       "[array([1., 2., 3.]), array([ 5.,  7.,  9., 11.]), array([1., 1.])]"
      ]
     },
     "execution_count": 42,
     "metadata": {},
     "output_type": "execute_result"
    }
   ],
   "source": [
    "pytree3"
   ]
  },
  {
   "cell_type": "code",
   "execution_count": 43,
   "id": "32b48055",
   "metadata": {},
   "outputs": [
    {
     "data": {
      "text/plain": [
       "[array([4., 5., 6.]), array([ 8., 10., 12., 14.]), array([4., 4.])]"
      ]
     },
     "execution_count": 43,
     "metadata": {},
     "output_type": "execute_result"
    }
   ],
   "source": [
    "add_pytree_and_scalar(pytree3, 3.)"
   ]
  },
  {
   "cell_type": "markdown",
   "id": "1467e885",
   "metadata": {},
   "source": [
    "### Subtraction utilities"
   ]
  },
  {
   "cell_type": "code",
   "execution_count": 44,
   "id": "5aad1801",
   "metadata": {},
   "outputs": [],
   "source": [
    "def subtract_pytree_and_scalar(a_pytree, b):\n",
    "    ''' Add the same scalar to each element of a pytree\n",
    "    \n",
    "    Args\n",
    "    ----\n",
    "    a_pytree : Pytree\n",
    "    b        : float scalar\n",
    "\n",
    "    Returns\n",
    "    -------\n",
    "    c_pytree : Pytree, same shape as a_pytree\n",
    "        Each elt will satisfy c_pytree = a_pytree - b\n",
    "    '''\n",
    "    return jax.tree_map(lambda a: a - b, a_pytree)\n",
    "\n",
    "def subtract_pytrees(a_pytree, b_pytree):\n",
    "    ''' Subtract one pytree from another\n",
    "    \n",
    "    Args\n",
    "    ----\n",
    "    a_pytree : Pytree\n",
    "    b_pytree : Pytree, same shape as a_pytree\n",
    "    \n",
    "    Returns\n",
    "    -------\n",
    "    c_pytree : Pytree, same shape as a_pytree\n",
    "        Each elt will satisfy c_pytree = a_pytree - b_pytree\n",
    "    '''\n",
    "    return jax.tree_map(lambda a,b: a-b,\n",
    "            a_pytree, b_pytree,\n",
    "        )"
   ]
  },
  {
   "cell_type": "code",
   "execution_count": 45,
   "id": "14ce5b40",
   "metadata": {},
   "outputs": [
    {
     "data": {
      "text/plain": [
       "[array([0., 0., 0.]), array([0., 0., 0., 0.]), array([0., 0.])]"
      ]
     },
     "execution_count": 45,
     "metadata": {},
     "output_type": "execute_result"
    }
   ],
   "source": [
    "subtract_pytrees(pytree3, pytree3)"
   ]
  },
  {
   "cell_type": "markdown",
   "id": "1b8f63ab",
   "metadata": {},
   "source": [
    "### Multiplication utilities"
   ]
  },
  {
   "cell_type": "code",
   "execution_count": 46,
   "id": "1ace6b95",
   "metadata": {},
   "outputs": [],
   "source": [
    "def multiply_pytree_and_scalar(a_pytree, b):\n",
    "    ''' Multiply the same scalar to each element of a pytree\n",
    "    \n",
    "    Args\n",
    "    ----\n",
    "    a_pytree : Pytree\n",
    "    b        : float scalar\n",
    "\n",
    "    Returns\n",
    "    -------\n",
    "    c_pytree : Pytree, same shape as a_pytree\n",
    "        Each elt will satisfy c_pytree = a_pytree * b\n",
    "    '''\n",
    "    return jax.tree_map(lambda a: a * b, a_pytree)\n",
    "\n",
    "def eltwise_multiply_pytrees(a_pytree, b_pytree):\n",
    "    ''' Multiply corresponding elts of two pytrees\n",
    "    \n",
    "    Args\n",
    "    ----\n",
    "    a_pytree : Pytree\n",
    "    b_pytree : Pytree, same shape as a_pytree\n",
    "    \n",
    "    Returns\n",
    "    -------\n",
    "    c_pytree : Pytree, same shape as a_pytree\n",
    "        Each elt will satisfy c_pytree = a_pytree * b_pytree\n",
    "    '''\n",
    "    return jax.tree_map(lambda a,b: a*b,\n",
    "            a_pytree, b_pytree,\n",
    "        )"
   ]
  },
  {
   "cell_type": "code",
   "execution_count": 47,
   "id": "be7fd866",
   "metadata": {},
   "outputs": [
    {
     "data": {
      "text/plain": [
       "[array([1., 2., 3.]), array([ 5.,  7.,  9., 11.]), array([1., 1.])]"
      ]
     },
     "execution_count": 47,
     "metadata": {},
     "output_type": "execute_result"
    }
   ],
   "source": [
    "pytree3"
   ]
  },
  {
   "cell_type": "code",
   "execution_count": 48,
   "id": "ee06e85f",
   "metadata": {},
   "outputs": [
    {
     "data": {
      "text/plain": [
       "[array([1., 4., 9.]), array([ 25.,  49.,  81., 121.]), array([1., 1.])]"
      ]
     },
     "execution_count": 48,
     "metadata": {},
     "output_type": "execute_result"
    }
   ],
   "source": [
    "eltwise_multiply_pytrees(pytree3, pytree3)"
   ]
  },
  {
   "cell_type": "code",
   "execution_count": null,
   "id": "f029584a",
   "metadata": {},
   "outputs": [],
   "source": []
  }
 ],
 "metadata": {
  "kernelspec": {
   "display_name": "Python 3 (ipykernel)",
   "language": "python",
   "name": "python3"
  },
  "language_info": {
   "codemirror_mode": {
    "name": "ipython",
    "version": 3
   },
   "file_extension": ".py",
   "mimetype": "text/x-python",
   "name": "python",
   "nbconvert_exporter": "python",
   "pygments_lexer": "ipython3",
   "version": "3.8.0"
  }
 },
 "nbformat": 4,
 "nbformat_minor": 5
}
