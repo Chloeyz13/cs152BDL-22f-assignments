{
 "cells": [
  {
   "cell_type": "markdown",
   "id": "823c45ca",
   "metadata": {},
   "source": [
    "# day03 B - Gradient Descent with JAX"
   ]
  },
  {
   "cell_type": "markdown",
   "id": "a86949ca",
   "metadata": {},
   "source": [
    "In this notebook, we'll practice\n",
    "\n",
    "* Part 0: Reviewing a simple procedure for gradient descent\n",
    "* Part 1: Gradient descent for simple multivariate optimization problems\n",
    "* Part 2: Gradient descent for linear regression"
   ]
  },
  {
   "cell_type": "markdown",
   "id": "fbd2bb67",
   "metadata": {},
   "source": [
    "# Requirements\n",
    "\n",
    "There are two ways to run this notebook\n",
    "\n",
    "<table style=\"table-medium\">\n",
    "    <tr>\n",
    "        <td style=\"align:left; text-align:left;\"> <h2> Run in-browser (no install necessary) </h2>\n",
    "        </td>\n",
    "        <td style=\"align:left; text-align:left;\"> <h2> Run locally on your computer </h2>\n",
    "        </td>        \n",
    "    </tr>\n",
    "    <tr>\n",
    "         <td style=\"align:left; text-align:left;\">\n",
    "             <p>You can use <a href=\"https://colab.research.google.com/\">Google Colab </a> </p>\n",
    "             <p>You'll need:</p>\n",
    "             <ul>\n",
    "             <li> internet connection </li>\n",
    "             <li>  Modern browser (Firefox, Chrome, Safari, Edge, etc) </li>\n",
    "             <li> Google account </li>\n",
    "             <li> Warning: session will timeout after 12 hours, or sooner if inactive </li>\n",
    "             <li> Plan to save work if you want it later </li>\n",
    "         </ul></td>\n",
    "         <td style=\"align:left; text-align:left;\">\n",
    "             <p>You can use <a href=\"https://jupyter.org/\">Jupyter notebook </a> </p>\n",
    "             <p>You'll need:</p>             <ul>\n",
    "             <li> Linux, Mac OS or other modern Unix-based OS (sorry, Windows + JAX is difficult) </li>\n",
    "             <li> Conda package manager </li>\n",
    "             <li> Python 3.8+ </li>\n",
    "             <li> All packages from <a href=\"https://www.cs.tufts.edu/comp/152BDL/2022f/bdl_2022f_env.yml\">bdl_2022f_env</a> \n",
    "                 , see <a href=\"https://www.cs.tufts.edu/comp/152BDL/2022f/setup_python_env.html\">\n",
    "                 Install Instructions on Course Website </a>\n",
    "             </li>\n",
    "         </ul></td>\n",
    "    </tr>\n",
    "</table>\n"
   ]
  },
  {
   "cell_type": "code",
   "execution_count": 3,
   "id": "0d312d35",
   "metadata": {},
   "outputs": [],
   "source": [
    "# Import numpy for arrays\n",
    "import numpy as np\n",
    "\n",
    "# Import pandas for reading/writing tabular data\n",
    "import pandas as pd\n",
    "\n",
    "# Import info about the local OS\n",
    "import os, platform"
   ]
  },
  {
   "cell_type": "code",
   "execution_count": 4,
   "id": "185ea3b2",
   "metadata": {},
   "outputs": [],
   "source": [
    "# Import JAX\n",
    "import jax.numpy as jnp\n",
    "import jax"
   ]
  },
  {
   "cell_type": "code",
   "execution_count": 5,
   "id": "3c2d6c70",
   "metadata": {},
   "outputs": [],
   "source": [
    "# Import packages for plotting\n",
    "import matplotlib\n",
    "import matplotlib.pyplot as plt\n",
    "import seaborn as sns\n",
    "sns.set_style(\"whitegrid\")\n",
    "sns.set_context(\"notebook\", font_scale=1.25)"
   ]
  },
  {
   "cell_type": "markdown",
   "id": "e3647da2",
   "metadata": {},
   "source": [
    "### Report OS and CPU information"
   ]
  },
  {
   "cell_type": "code",
   "execution_count": 10,
   "id": "36086c40",
   "metadata": {},
   "outputs": [
    {
     "name": "stdout",
     "output_type": "stream",
     "text": [
      "========== Information about OS and CPU ==========\n",
      "Node Name: Michaels-MacBook-Pro-2.local\n",
      "System: Darwin\n",
      "Version: Darwin Kernel Version 20.6.0: Tue Feb 22 21:10:41 PST 2022; root:xnu-7195.141.26~1/RELEASE_X86_64\n",
      "Machine: x86_64  Processor: i386\n",
      "Num cores:  8\n"
     ]
    }
   ],
   "source": [
    "uname = platform.uname()\n",
    "B = 10\n",
    "print(\"=\"*B, \"Information about OS and CPU\", \"=\"*B)\n",
    "print(f\"Node Name: {uname.node}\")\n",
    "print(f\"System: {uname.system}\")\n",
    "print(f\"Version: {uname.version}\")\n",
    "print(f\"Machine: {uname.machine}  Processor: {uname.processor}\")\n",
    "print(\"Num cores: \", os.cpu_count())"
   ]
  },
  {
   "cell_type": "markdown",
   "id": "1aad0da0",
   "metadata": {},
   "source": [
    "### Report exact versions of required packages in local environment"
   ]
  },
  {
   "cell_type": "code",
   "execution_count": 7,
   "id": "528a0a1c",
   "metadata": {},
   "outputs": [
    {
     "name": "stdout",
     "output_type": "stream",
     "text": [
      "========== Packages in local env ==========\n",
      "       numpy 1.22.4\n",
      "         jax 0.3.17\n",
      "  matplotlib 3.5.2\n",
      "     seaborn 0.11.2\n"
     ]
    }
   ],
   "source": [
    "print(\"=\"*B, \"Packages in local env\", \"=\"*B)\n",
    "for pkg in [np, jax, matplotlib, sns]:\n",
    "  print(\"%12s %s\" % (pkg.__name__, pkg.__version__))"
   ]
  },
  {
   "cell_type": "markdown",
   "id": "59257dc8",
   "metadata": {},
   "source": [
    "# Part 0: Simple gradient descent procedure\n",
    "\n",
    "Recall the basic iterative algorithm for optimizing a given loss function via steps in the direction of \"steepest descent\". For review, see [Sec. 7.1 of Mathematics for Machine Learning](https://mml-book.github.io/book/mml-book.pdf#page=232)\n",
    "\n",
    "We'll define a simple Python function to solve optimization problems with this method.\n",
    "\n",
    "The 5 key inputs are:\n",
    "\n",
    "* Function to compute the loss\n",
    "* Function to compute the gradient\n",
    "* Array specifying a concrete initialization of the variable we're trying to optimize\n",
    "* Step size \n",
    "* Number of iterations to run\n",
    "\n",
    "**Read thru the code below** to make sure you understand how this works. (For now, you can ignore details related to **printing**, these are useful for logging /debugging but not essential for your first pass understanding)."
   ]
  },
  {
   "cell_type": "code",
   "execution_count": 13,
   "id": "b9638711",
   "metadata": {},
   "outputs": [],
   "source": [
    "def run_many_iters_of_grad_descent(\n",
    "        calc_loss,\n",
    "        calc_grad,\n",
    "        init_x_D,\n",
    "        step_size=0.001,\n",
    "        n_iters=100,\n",
    "        print_every=None):\n",
    "    ''' Run many iterations of gradient descent\n",
    "    \n",
    "    Args\n",
    "    ----\n",
    "    calc_loss : function\n",
    "        Computes the loss that we want to minimize\n",
    "        Maps D-dim input array to scalar\n",
    "    calc_grad : function\n",
    "        Computes the gradient (a D-dim array) of loss\n",
    "        Maps D-dim input array to D-dim grad array\n",
    "    init_x_D : 1D array, size D\n",
    "        Initial value of the variable x we're trying to optimize\n",
    "    \n",
    "    Returns\n",
    "    -------\n",
    "    xopt_D : 1D array, size D\n",
    "        Final value of vector x, \n",
    "        If converged, should be local optima of loss function\n",
    "    history : dict of lists\n",
    "        Provides history of the function value\n",
    "    '''\n",
    "    # Copy the initial parameter vector, casting to float if needed\n",
    "    x_D = 1.0 * init_x_D\n",
    "\n",
    "    # Create data structs to track per-iteration history\n",
    "    # of different quantities\n",
    "    history = dict(\n",
    "        iter=[],\n",
    "        loss=[],\n",
    "        x_D=[],\n",
    "        g_D=[])\n",
    "\n",
    "    for iter_id in range(n_iters+1):\n",
    "        if iter_id > 0:\n",
    "            x_D = x_D - step_size * calc_grad(x_D)\n",
    "\n",
    "        history['iter'].append(iter_id)\n",
    "        history['loss'].append(calc_loss(x_D))\n",
    "        history['x_D'].append(x_D)\n",
    "        history['g_D'].append(calc_grad(x_D))\n",
    "        \n",
    "        if isinstance(print_every, int) and iter_id % print_every == 0:\n",
    "            print(\"iter %4d/%d  loss %11.6f\" % (\n",
    "                iter_id, n_iters, history['loss'][-1]))\n",
    "    return x_D, history"
   ]
  },
  {
   "cell_type": "markdown",
   "id": "602a1bc4",
   "metadata": {},
   "source": [
    "### Concept check:\n",
    "\n",
    "* Will this procedure always produce a guaranteed optimal value of $x^*$? Explain...\n",
    "* What could go wrong if `step_size` is set too low?\n",
    "* What could go wrong if `step_size` is set too high?\n"
   ]
  },
  {
   "cell_type": "markdown",
   "id": "13a843fd",
   "metadata": {},
   "source": [
    "# Part 1: Gradient descent on simple multivariate functions"
   ]
  },
  {
   "cell_type": "markdown",
   "id": "d44cf792",
   "metadata": {},
   "source": [
    "## Worked Example 1A: Minimize f(x) = sum(square(x))\n",
    "\n",
    "It's easy to figure out that the vector with smallest L2 norm (smallest sum of squares) is the all-zero vector.\n",
    "\n",
    "Here's a quick example of showing that using gradient functions provided by jax can help us solve the optimization problem:\n",
    "\n",
    "$$\n",
    "\\min_x  \\sum_{d=1}^D x_d^2\n",
    "$$"
   ]
  },
  {
   "cell_type": "code",
   "execution_count": 18,
   "id": "24c4e80d",
   "metadata": {},
   "outputs": [],
   "source": [
    "# Build the loss function\n",
    "def calc_loss_sum_of_squares(x_D):\n",
    "    return jnp.sum(jnp.square(x_D))\n",
    "\n",
    "# Use JAX to build the grad function\n",
    "calc_grad_sum_of_squares = jax.grad(calc_loss_sum_of_squares)"
   ]
  },
  {
   "cell_type": "code",
   "execution_count": 19,
   "id": "5b221f3b",
   "metadata": {},
   "outputs": [],
   "source": [
    "# Initialize at x_D = [-3, 4, -5, 6]\n",
    "init_x_D = np.asarray([-3.0, 4.0, -5.0, 6.0])"
   ]
  },
  {
   "cell_type": "code",
   "execution_count": 20,
   "id": "8ab9fb75",
   "metadata": {},
   "outputs": [
    {
     "name": "stdout",
     "output_type": "stream",
     "text": [
      "iter    0/500  loss   86.000000\n",
      "iter  100/500  loss    1.512563\n",
      "iter  200/500  loss    0.026603\n",
      "iter  300/500  loss    0.000468\n",
      "iter  400/500  loss    0.000008\n",
      "iter  500/500  loss    0.000000\n"
     ]
    }
   ],
   "source": [
    "opt_x_D, history = run_many_iters_of_grad_descent(\n",
    "    calc_loss_sum_of_squares,\n",
    "    calc_grad_sum_of_squares,\n",
    "    init_x_D, n_iters=500, step_size=0.01, print_every=100)"
   ]
  },
  {
   "cell_type": "code",
   "execution_count": 21,
   "id": "16cf8f1a",
   "metadata": {},
   "outputs": [
    {
     "data": {
      "image/png": "[encoded data removed]",
      "text/plain": [
       "<Figure size 1080x216 with 2 Axes>"
      ]
     },
     "metadata": {
      "needs_background": "light"
     },
     "output_type": "display_data"
    }
   ],
   "source": [
    "# Make plots of how x parameter values evolve over iterations\n",
    "# and also how function values evolve over iterations\n",
    "# Expected result: f goes to zero. all x values goto zero.\n",
    "\n",
    "fig_h, subplot_grid = plt.subplots(\n",
    "    nrows=1, ncols=2, sharex=True, sharey=False, figsize=(15,3), squeeze=False)\n",
    "subplot_grid[0,0].plot(history['iter'], history['x_D'])\n",
    "subplot_grid[0,0].set_xlabel('iters')\n",
    "subplot_grid[0,0].set_ylabel('x_d')\n",
    "\n",
    "subplot_grid[0,1].plot(history['iter'], history['loss'])\n",
    "subplot_grid[0,1].set_xlabel('iters')\n",
    "subplot_grid[0,1].set_ylabel('loss(x)');"
   ]
  },
  {
   "cell_type": "markdown",
   "id": "f02a845d",
   "metadata": {},
   "source": [
    "### Concept check:\n",
    "\n",
    "* What is happening in the left plot above? Does it make sense in terms of our goals?\n",
    "* What is happening in the right plot above? Does it make sense in terms of our goals/what we expect?"
   ]
  },
  {
   "cell_type": "markdown",
   "id": "db63a467",
   "metadata": {},
   "source": [
    "## Exercise 1B: \n",
    "\n",
    "Given a 2-dimensional vector $x = [x_1, x_2]$, the trid function is:\n",
    "\n",
    "$$\n",
    "f(x) = (x_1-1)^2 + (x_2-1)^2 - x_1 x_2\n",
    "$$\n",
    "\n",
    "Here's a 3D plot, with the value of the function in the z-axis:\n",
    "\n",
    "<img src=\"https://www.sfu.ca/~ssurjano/trid.png\" width=\"33%\">\n",
    "\n",
    "Background and Picture credit: <https://www.sfu.ca/~ssurjano/trid.html>\n",
    "\n",
    "Can you use JAX + gradient descent to find the optimal value $x^*$ that minimizes $f(x)$?\n",
    "\n",
    "You can initialize your gradient descent at [+1.0, -1.0]"
   ]
  },
  {
   "cell_type": "code",
   "execution_count": 23,
   "id": "9f295f5a",
   "metadata": {},
   "outputs": [],
   "source": [
    "# TODO define your function\n",
    "def calc_loss_trid(x_D):\n",
    "    return 0.0 # TODO fixme"
   ]
  },
  {
   "cell_type": "code",
   "execution_count": 24,
   "id": "902e58bd",
   "metadata": {},
   "outputs": [],
   "source": [
    "# TODO actually compute the gradient of f\n",
    "calc_grad_trid = calc_loss_trid "
   ]
  },
  {
   "cell_type": "code",
   "execution_count": 25,
   "id": "33b2b580",
   "metadata": {},
   "outputs": [],
   "source": [
    "# TODO replace placeholders below\n",
    "# by calling run_many_iters_of_gradient_descent() with appropriate args\n",
    "D = 2\n",
    "opt_x_D = np.zeros(D)\n",
    "history = dict(iter=np.arange(100), loss=np.zeros(100), x_D=[2*np.arange(D)-1]*100)"
   ]
  },
  {
   "cell_type": "code",
   "execution_count": 26,
   "id": "3975fc2e",
   "metadata": {},
   "outputs": [
    {
     "data": {
      "image/png": "[encoded data removed]",
      "text/plain": [
       "<Figure size 1080x216 with 2 Axes>"
      ]
     },
     "metadata": {
      "needs_background": "light"
     },
     "output_type": "display_data"
    }
   ],
   "source": [
    "# TRID example\n",
    "# Make plots of how x parameter values evolve over iterations\n",
    "# and how loss function of x evolves over iterations\n",
    "\n",
    "fig_h, subplot_grid = plt.subplots(\n",
    "    nrows=1, ncols=2, sharex=True, sharey=False, figsize=(15,3), squeeze=False)\n",
    "subplot_grid[0,0].plot(history['iter'], history['x_D'])\n",
    "subplot_grid[0,0].set_xlabel('iters')\n",
    "subplot_grid[0,0].set_ylabel('x_d')\n",
    "\n",
    "subplot_grid[0,1].plot(history['iter'], history['loss'])\n",
    "subplot_grid[0,1].set_xlabel('iters')\n",
    "subplot_grid[0,1].set_ylabel('loss(x)');"
   ]
  },
  {
   "cell_type": "markdown",
   "id": "99e1ab94",
   "metadata": {},
   "source": [
    "### Ideal Solution when initialized at [+1.0, -1.0]\n",
    "\n",
    "You should get a plot that looks like this, found in the `exercise_solutions/` folder of the [cs152BDL-22f-assignments repo](https://github.com/tufts-ml-courses/cs152BDL-22f-assignments)\n",
    "\n",
    "<img width=\"80%\" src=\"https://raw.githubusercontent.com/tufts-ml-courses/cs152BDL-22f-assignments/main/exercise_solutions/day03-B-Exercise1B-solution-11.png\">\n",
    "\n",
    "\n",
    "### Ideal Solution when initialized at [+4.0, +3.0]\n",
    "\n",
    "<img width=\"80%\" src=\"https://raw.githubusercontent.com/tufts-ml-courses/cs152BDL-22f-assignments/main/exercise_solutions/day03-B-Exercise1B-solution-43.png\">\n"
   ]
  },
  {
   "cell_type": "markdown",
   "id": "1561c951",
   "metadata": {},
   "source": [
    "# Part 2: Solving linear regression with gradient descent"
   ]
  },
  {
   "cell_type": "markdown",
   "id": "10b17e87",
   "metadata": {},
   "source": [
    "We observe $N$ examples $(x_i, y_i)$ consisting of D-dimensional 'input' vectors $x_i$ and scalar outputs $y_i$.\n",
    "\n",
    "Consider the multivariate linear regression model:\n",
    "\n",
    "For each example $n$, from $1, 2, \\ldots N$:\n",
    "\n",
    "\\begin{align}\n",
    "y_n &\\sim \\mathcal{N}(w^T x_n, \\sigma^2),\n",
    "\\end{align}\n",
    "where we assume $\\sigma = 0.1$.\n",
    "\n",
    "Our goal is, given data, to learn a good value of the weight vector $w \\in \\mathbb{R}^D$.\n",
    "\n",
    "One non-Bayesian way to train weights would be to just compute the maximum likelihood solution:\n",
    "\n",
    "Let our objective $J(w)$ be defined as the per-example negative log likelihood:\n",
    "\n",
    "\\begin{align}\n",
    "J(w) &= - \\frac{1}{N} \\log p( \\mathbf{y}_{1:N} | \\mathbf{x}_{1:N}, \\mathbf{w})\n",
    "\\\\\n",
    "    &= - \\frac{1}{N} \\sum_{n=1}^N \\log p(y_n | x_n, \\mathbf{w})\n",
    "\\end{align}\n"
   ]
  },
  {
   "cell_type": "markdown",
   "id": "89866b44",
   "metadata": {},
   "source": [
    "## Toy Data for linear regression task\n",
    "\n",
    "We'll generate data that comes from an idealized linear regression model.\n",
    "\n",
    "Each example has D=2 dimensions for x.\n",
    "\n",
    "The first dimension is weighted by +4.2.\n",
    "The second dimension is weighted by -4.2\n"
   ]
  },
  {
   "cell_type": "code",
   "execution_count": 27,
   "id": "05e1eaac",
   "metadata": {},
   "outputs": [],
   "source": [
    "N = 300\n",
    "D = 2\n",
    "sigma = 0.1\n",
    "\n",
    "true_w_D = np.asarray([4.2, -4.2])\n",
    "\n",
    "train_prng = np.random.RandomState(0)\n",
    "x_ND = train_prng.uniform(low=-5, high=5, size=(N,D))\n",
    "y_N = np.dot(x_ND, true_w_D) + sigma * train_prng.randn(N)"
   ]
  },
  {
   "cell_type": "markdown",
   "id": "c257b992",
   "metadata": {},
   "source": [
    "## Visualization: Pairplots for all possible (x_d, y) combinations\n",
    "\n",
    "You can clearly see the slopes of the lines:\n",
    "* x1 vs y plot: slope is around +4\n",
    "* x2 vs y plot: slope is around -4"
   ]
  },
  {
   "cell_type": "code",
   "execution_count": 28,
   "id": "8246c0ae",
   "metadata": {},
   "outputs": [
    {
     "data": {
      "image/png": "[encoded data removed]",
      "text/plain": [
       "<Figure size 540x540 with 9 Axes>"
      ]
     },
     "metadata": {
      "needs_background": "light"
     },
     "output_type": "display_data"
    }
   ],
   "source": [
    "data_df = pd.DataFrame(\n",
    "        np.hstack([x_ND, y_N[:,np.newaxis]]),\n",
    "        columns=['x1', 'x2', 'y'])\n",
    "sns.pairplot(data=data_df, corner=True);"
   ]
  },
  {
   "cell_type": "markdown",
   "id": "ff191ba8",
   "metadata": {},
   "source": [
    "## Worked Example 2A: Fitting linear model to toy data"
   ]
  },
  {
   "cell_type": "code",
   "execution_count": 33,
   "id": "22612739",
   "metadata": {},
   "outputs": [],
   "source": [
    "# Define the objective as an GRAD-able function wrt the weights w_D\n",
    "def calc_neg_likelihood_linreg(w_D):\n",
    "    yhat_N = jnp.dot(x_ND, w_D)\n",
    "    return 0.5 / jnp.square(sigma) * jnp.mean(jnp.square(yhat_N - y_N))"
   ]
  },
  {
   "cell_type": "code",
   "execution_count": 34,
   "id": "9a14a843",
   "metadata": {},
   "outputs": [
    {
     "data": {
      "text/plain": [
       "DeviceArray(15497.727, dtype=float32)"
      ]
     },
     "execution_count": 34,
     "metadata": {},
     "output_type": "execute_result"
    }
   ],
   "source": [
    "## Test the loss function at an easy all-zero input vector\n",
    "w_allzero_D = np.zeros(2)\n",
    "calc_neg_likelihood_linreg(w_allzero_D)"
   ]
  },
  {
   "cell_type": "code",
   "execution_count": 35,
   "id": "22cdf31b",
   "metadata": {},
   "outputs": [],
   "source": [
    "calc_grad_wrt_w = jax.grad(calc_neg_likelihood_linreg)"
   ]
  },
  {
   "cell_type": "code",
   "execution_count": 36,
   "id": "b0da19fa",
   "metadata": {},
   "outputs": [
    {
     "data": {
      "text/plain": [
       "DeviceArray([-3511.609,  3864.746], dtype=float32)"
      ]
     },
     "execution_count": 36,
     "metadata": {},
     "output_type": "execute_result"
    }
   ],
   "source": [
    "## Test the gradient at that easy all-zero vector \n",
    "calc_grad_wrt_w(w_allzero_D)"
   ]
  },
  {
   "cell_type": "code",
   "execution_count": 37,
   "id": "2d8db0a1",
   "metadata": {},
   "outputs": [
    {
     "name": "stdout",
     "output_type": "stream",
     "text": [
      "iter    0/300  loss 15497.726562\n",
      "iter   20/300  loss  396.549255\n",
      "iter   40/300  loss   11.042154\n",
      "iter   60/300  loss    0.830816\n",
      "iter   80/300  loss    0.549395\n",
      "iter  100/300  loss    0.541326\n",
      "iter  120/300  loss    0.541087\n",
      "iter  140/300  loss    0.541079\n",
      "iter  160/300  loss    0.541079\n",
      "iter  180/300  loss    0.541079\n",
      "iter  200/300  loss    0.541079\n",
      "iter  220/300  loss    0.541079\n",
      "iter  240/300  loss    0.541079\n",
      "iter  260/300  loss    0.541079\n",
      "iter  280/300  loss    0.541079\n",
      "iter  300/300  loss    0.541079\n"
     ]
    }
   ],
   "source": [
    "# Because the gradient's magnitude is very large, use very small step size\n",
    "opt_w_D, history = run_many_iters_of_grad_descent(\n",
    "    calc_neg_likelihood_linreg,\n",
    "    calc_grad_wrt_w,\n",
    "    w_allzero_D,\n",
    "    n_iters=300, step_size=0.0001, print_every=20,\n",
    "    )"
   ]
  },
  {
   "cell_type": "code",
   "execution_count": 38,
   "id": "f282268f",
   "metadata": {},
   "outputs": [
    {
     "data": {
      "image/png": "[encoded data removed]",
      "text/plain": [
       "<Figure size 1080x216 with 2 Axes>"
      ]
     },
     "metadata": {
      "needs_background": "light"
     },
     "output_type": "display_data"
    }
   ],
   "source": [
    "# LinReg worked example\n",
    "# Make plots of how w_D parameter values evolve over iterations, and function values evolve over iterations\n",
    "# Expected result: x\n",
    "\n",
    "fig_h, subplot_grid = plt.subplots(\n",
    "    nrows=1, ncols=2, sharex=True, sharey=False, figsize=(15,3), squeeze=False)\n",
    "subplot_grid[0,0].plot(history['iter'], history['x_D'])\n",
    "subplot_grid[0,0].set_xlabel('iters')\n",
    "subplot_grid[0,0].set_ylabel('w_d')\n",
    "\n",
    "subplot_grid[0,1].plot(history['iter'], history['loss'])\n",
    "subplot_grid[0,1].set_xlabel('iters')\n",
    "subplot_grid[0,1].set_ylabel('neg log likelihood');"
   ]
  },
  {
   "cell_type": "markdown",
   "id": "39bc25af",
   "metadata": {},
   "source": [
    "### Concept check:\n",
    "\n",
    "* What is happening in the left plot above? Does it make sense in terms of our goals?\n",
    "* What is happening in the right plot above? Does it make sense in terms of our goals/what we expect?\n",
    "* Would you recommend a different `step_size` or `n_iters` based on these plots? Why?"
   ]
  },
  {
   "cell_type": "code",
   "execution_count": null,
   "id": "83427992",
   "metadata": {},
   "outputs": [],
   "source": []
  }
 ],
 "metadata": {
  "kernelspec": {
   "display_name": "Python 3 (ipykernel)",
   "language": "python",
   "name": "python3"
  },
  "language_info": {
   "codemirror_mode": {
    "name": "ipython",
    "version": 3
   },
   "file_extension": ".py",
   "mimetype": "text/x-python",
   "name": "python",
   "nbconvert_exporter": "python",
   "pygments_lexer": "ipython3",
   "version": "3.8.0"
  }
 },
 "nbformat": 4,
 "nbformat_minor": 5
}
