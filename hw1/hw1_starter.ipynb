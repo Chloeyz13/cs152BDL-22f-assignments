{
 "cells": [
  {
   "cell_type": "markdown",
   "metadata": {},
   "source": [
    "# HW 1 Starter Code (TODO RENAME as HW1 FirstName LastName)\n",
    "\n",
    "For the original HW1 Instructions see:\n",
    "\n",
    "https://www.cs.tufts.edu/cs/152BDL/2022f/hw1.html"
   ]
  },
  {
   "cell_type": "markdown",
   "metadata": {},
   "source": [
    "# Collaboration statement\n",
    "\n",
    "> At the top of your writeup, you must include the names of any people you worked with, and in what way you worked them (discussed ideas, debugged math, team coding). We may occasionally check in with groups to ascertain that everyone in the group was participating in accordance with this policy."
   ]
  },
  {
   "cell_type": "markdown",
   "metadata": {},
   "source": [
    "TODO FILL WITH YOUR COLLAB STATEMENT\n",
    "\n",
    "I worked with fellow students ABC and XYZ on _____.\n",
    "\n",
    "I also talked to DEF about ____.\n",
    "\n",
    "I talked to the TA in office hours on Friday too."
   ]
  },
  {
   "cell_type": "markdown",
   "metadata": {},
   "source": [
    "# Imports"
   ]
  },
  {
   "cell_type": "code",
   "execution_count": 1,
   "metadata": {},
   "outputs": [],
   "source": [
    "import numpy as np\n",
    "import pandas as pd\n",
    "\n",
    "import scipy.stats\n",
    "from scipy.stats import multivariate_normal\n",
    "from scipy.special import kv as scipy_bessel_func\n",
    "from scipy.special import gamma as scipy_gamma_func"
   ]
  },
  {
   "cell_type": "code",
   "execution_count": 2,
   "metadata": {},
   "outputs": [],
   "source": [
    "import matplotlib.pyplot as plt\n",
    "import seaborn as sns\n",
    "sns.set('notebook', font_scale=1.5, style='whitegrid')"
   ]
  },
  {
   "cell_type": "markdown",
   "metadata": {},
   "source": [
    "# Problem 1: Sample from GP prior"
   ]
  },
  {
   "cell_type": "markdown",
   "metadata": {},
   "source": [
    "## Write code to sample f values from prior"
   ]
  },
  {
   "cell_type": "code",
   "execution_count": 3,
   "metadata": {},
   "outputs": [],
   "source": [
    "def draw_sample_of_f_from_GP_prior_at_x_grid(\n",
    "        x_grid_G, mean_func, cov_func,\n",
    "        kernel_kwargs={},\n",
    "        random_seed=42,\n",
    "        n_samples=1):\n",
    "    \"\"\" Draw sample from GP prior given mean/cov functions\n",
    "\n",
    "    Args\n",
    "    ----\n",
    "    x_grid_G : 1D array, size n_grid_pts (G)\n",
    "        Contains G specific x_i values to evaluate function at\n",
    "    mean_func : function, maps (1D arr size A) to (1D arr size A)\n",
    "        Computes mean value $m(x_i)$ at each input x_i value \n",
    "    cov_func : function, maps (1D arr size A, 1D arr size B) to (2D AxB)\n",
    "        Computes covariance (kernel) value at each pair of inputs.\n",
    "    kernel_kwargs : dict\n",
    "        Each key,val pair provides the name and float value of\n",
    "        the named hyperparameter for kernel function\n",
    "    random_seed : int\n",
    "        See for the random number generator\n",
    "    n_samples : int\n",
    "        Number of samples to draw from the prior    \n",
    "\n",
    "    Returns\n",
    "    -------\n",
    "    f_SG : 2D array, n_samples (S) x n_grid_pts (G)\n",
    "        Contains sampled function values at each point of x_grid\n",
    "    \"\"\"\n",
    "    S = int(n_samples)\n",
    "    G = x_grid_G.size\n",
    "    mean_G = np.ones(G) # TODO FIXME\n",
    "    cov_GG = np.eye(G)  # TODO FIXME\n",
    "    assert cov_GG.shape == (G,G)\n",
    "    \n",
    "    # Use consistent random number generator for reproducibility\n",
    "    prng = np.random.RandomState(int(random_seed))\n",
    "    f_SG = np.arange(S).reshape((S,1)) * np.ones((S, G)) # TODO FIX use prng.multivariate_normal(...)\n",
    "    return f_SG"
   ]
  },
  {
   "cell_type": "code",
   "execution_count": 4,
   "metadata": {},
   "outputs": [],
   "source": [
    "def plot_f_samples_at_x_grid(x_grid_G, f_grid_SG,\n",
    "                             color=None, axis_handle=None):\n",
    "    if axis_handle is None:\n",
    "        axis_handle = pylab.gca() # get current axis handle if not provided\n",
    "    S, G = f_grid_SG.shape\n",
    "    for s in range(S):\n",
    "        axis_handle.plot(x_grid_G, f_grid_SG[s], '-', color=color)"
   ]
  },
  {
   "cell_type": "markdown",
   "metadata": {},
   "source": [
    "### Define mean_func"
   ]
  },
  {
   "cell_type": "code",
   "execution_count": 5,
   "metadata": {},
   "outputs": [],
   "source": [
    "def mean_func(x_grid_G):\n",
    "    return np.zeros_like(x_grid_G)"
   ]
  },
  {
   "cell_type": "markdown",
   "metadata": {},
   "source": [
    "### Define sqexp kernel"
   ]
  },
  {
   "cell_type": "code",
   "execution_count": 6,
   "metadata": {},
   "outputs": [],
   "source": [
    "def sqexp_kernel_func(x_grid_A, x_grid_B=None, **kernel_kwargs):\n",
    "    ''' Compute squared exponential kernel between two provided arrays\n",
    "    \n",
    "    Args\n",
    "    ----\n",
    "    x_A : 1D array, shape (A,)\n",
    "        Contains univariate x value for each of A observations\n",
    "    x_B : 1D array, shape (B,)\n",
    "        Contains univariate x value for each of B observations\n",
    "    kernel_kwargs : dict\n",
    "        Contains length scale value under key 'L'\n",
    "    \n",
    "    Returns\n",
    "    -------\n",
    "    k_AB : 2D array, shape (A,B)\n",
    "        Kernel matrix where k_AB[aa, bb]\n",
    "        gives the kernel value between x_grid_A[aa], x_grid_B[bb]\n",
    "    '''\n",
    "    # Handy code to reshape provided 1D arrays into 2D for efficient vector ops\n",
    "    if x_grid_B is None:\n",
    "        x_grid_B = x_grid_A.copy()\n",
    "    A = x_grid_A.shape[0]\n",
    "    B = x_grid_B.shape[0]\n",
    "    xa_A1 = np.reshape(x_grid_A, (A, 1))\n",
    "    xb_1B = np.reshape(x_grid_B, (1, B))\n",
    "    \n",
    "    # Pull desired lengthscale value out of dict\n",
    "    L = kernel_kwargs['L']\n",
    "    \n",
    "    # TODO fixme\n",
    "    return np.ones((A,B))"
   ]
  },
  {
   "cell_type": "markdown",
   "metadata": {},
   "source": [
    "### Define Matern kernel"
   ]
  },
  {
   "cell_type": "code",
   "execution_count": 7,
   "metadata": {},
   "outputs": [],
   "source": [
    "def matern_kernel_func(x_grid_A, x_grid_B=None, **kernel_kwargs):\n",
    "    ''' Compute Matern kernel between two provided arrays\n",
    "    \n",
    "    Args\n",
    "    ----\n",
    "    x_A : 1D array, shape (A,)\n",
    "        Contains univariate x value for each of A observations\n",
    "    x_B : 1D array, shape (B,)\n",
    "        Contains univariate x value for each of B observations\n",
    "    kernel_kwargs : dict\n",
    "        Contains length scale value under key 'L'\n",
    "        Contains smoothness value under key 'nu'\n",
    "    \n",
    "    Returns\n",
    "    -------\n",
    "    k_AB : 2D array, shape (A,B)\n",
    "        Kernel matrix where k_AB[aa, bb]\n",
    "        gives the kernel value between x_grid_A[aa], x_grid_B[bb]\n",
    "    '''\n",
    "    # Handy code to reshape provided 1D arrays into 2D for efficient vector ops\n",
    "    if x_grid_B is None:\n",
    "        x_grid_B = x_grid_A.copy()\n",
    "    A = x_grid_A.shape[0]\n",
    "    B = x_grid_B.shape[0]\n",
    "    xa_A1 = np.reshape(x_grid_A, (A, 1))\n",
    "    xb_1B = np.reshape(x_grid_B, (1, B))\n",
    "    \n",
    "    # Pull desired lengthscale value out of dict\n",
    "    L = kernel_kwargs['L']\n",
    "    nu = kernel_kwargs['nu']\n",
    "    \n",
    "    # TODO fixme\n",
    "    return np.ones((A,B))"
   ]
  },
  {
   "cell_type": "markdown",
   "metadata": {},
   "source": [
    "### Setup plot appearance properties"
   ]
  },
  {
   "cell_type": "code",
   "execution_count": 8,
   "metadata": {},
   "outputs": [],
   "source": [
    "H = 4 # Panel height\n",
    "W = 6 # Panel width\n",
    "\n",
    "S = 3  # num samples to draw from posterior\n",
    "\n",
    "G = 501  # num grid points to use\n",
    "x_grid_G = np.linspace(-6, 6, G)\n",
    "\n"
   ]
  },
  {
   "cell_type": "markdown",
   "metadata": {},
   "source": [
    "## Part a: Plots of samples with Squared Exponential Kernel"
   ]
  },
  {
   "cell_type": "code",
   "execution_count": 9,
   "metadata": {},
   "outputs": [
    {
     "data": {
      "image/png": "[encoded data removed]",
      "text/plain": [
       "<Figure size 1296x288 with 3 Axes>"
      ]
     },
     "metadata": {
      "needs_background": "light"
     },
     "output_type": "display_data"
    }
   ],
   "source": [
    "ell_list = [0.33, 1.0, 3.0]\n",
    "ncols = len(ell_list)\n",
    "nrows = 1\n",
    "\n",
    "fig_h, axes_list = plt.subplots(\n",
    "    nrows=nrows, ncols=ncols,\n",
    "    sharex=True, sharey=True,\n",
    "    figsize=(W*ncols, H*nrows))\n",
    "for ii, L in enumerate(ell_list):\n",
    "    cur_ax_h = axes_list[ii]\n",
    "    \n",
    "    f_grid_SG = draw_sample_of_f_from_GP_prior_at_x_grid(\n",
    "        x_grid_G, mean_func, sqexp_kernel_func,\n",
    "        kernel_kwargs=dict(L=L), n_samples=S)\n",
    "    assert f_grid_SG.shape == (S, G)\n",
    "    \n",
    "    plot_f_samples_at_x_grid(\n",
    "        x_grid_G,\n",
    "        f_grid_SG,\n",
    "        axis_handle=cur_ax_h,\n",
    "        )\n",
    "    cur_ax_h.set_title('sqexp kernel \\n L = %.2f' % L)\n",
    "    cur_ax_h.set_yticks([-4, -2, 0, 2, 4]);\n",
    "    cur_ax_h.set_xticks([-6, -4, -2, 0, 2, 4, 6]);\n",
    "    cur_ax_h.set_xlabel('x');\n",
    "    if ii == 0: cur_ax_h.set_ylabel('f(x)');\n",
    "    \n",
    "plt.subplots_adjust(hspace=0, wspace=0.1)"
   ]
  },
  {
   "cell_type": "markdown",
   "metadata": {},
   "source": [
    "## Part 1b: Short answer interpreting SqExp Plots"
   ]
  },
  {
   "cell_type": "markdown",
   "metadata": {},
   "source": [
    "TODO answer here"
   ]
  },
  {
   "cell_type": "markdown",
   "metadata": {},
   "source": [
    "## Part 1c: Plots of samples with Matern Kernel"
   ]
  },
  {
   "cell_type": "code",
   "execution_count": 10,
   "metadata": {},
   "outputs": [
    {
     "data": {
      "image/png": "[encoded data removed]",
      "text/plain": [
       "<Figure size 1296x864 with 9 Axes>"
      ]
     },
     "metadata": {
      "needs_background": "light"
     },
     "output_type": "display_data"
    }
   ],
   "source": [
    "ell_list = [0.33, 1.0, 3.0]\n",
    "ncols = len(ell_list)\n",
    "\n",
    "nu_list = [0.5, 2.0, 8.0]\n",
    "nrows = len(nu_list)\n",
    "\n",
    "fig_h, axes_grid_RC = plt.subplots(\n",
    "    nrows=nrows, ncols=ncols,\n",
    "    sharex=True, sharey=True,\n",
    "    figsize=(W*ncols, H*nrows))\n",
    "for cc, L in enumerate(ell_list):\n",
    "    for rr, nu in enumerate(nu_list):\n",
    "        cur_ax_h = axes_grid_RC[rr,cc]\n",
    "\n",
    "        f_grid_SG = draw_sample_of_f_from_GP_prior_at_x_grid(\n",
    "            x_grid_G, mean_func, matern_kernel_func,\n",
    "            kernel_kwargs=dict(L=L, nu=nu),\n",
    "            n_samples=S)\n",
    "        assert f_grid_SG.shape == (S, G)\n",
    "        \n",
    "        plot_f_samples_at_x_grid(\n",
    "            x_grid_G,\n",
    "            f_grid_SG,\n",
    "            axis_handle=cur_ax_h\n",
    "            )\n",
    "        \n",
    "        # Make plot look pretty. Please don't edit without good reasons.\n",
    "        title_str = r'$L{=}%.2f~~\\nu{=}%.1f$' % (L,nu)\n",
    "        if rr == 0:\n",
    "            title_str = 'Matern kernel\\n' + title_str\n",
    "        cur_ax_h.set_title(title_str)\n",
    "        cur_ax_h.set_yticks([-4, -2, 0, 2, 4]);\n",
    "        cur_ax_h.set_xticks([-6, -4, -2, 0, 2, 4, 6]);\n",
    "        if rr == len(nu_list) - 1: cur_ax_h.set_xlabel('x');\n",
    "        if cc == 0: cur_ax_h.set_ylabel('f(x)');\n",
    "            \n",
    "plt.subplots_adjust(hspace=0.3, wspace=0.1)"
   ]
  },
  {
   "cell_type": "markdown",
   "metadata": {},
   "source": [
    "## Part 1d: Short answer interpreting Matern plots"
   ]
  },
  {
   "cell_type": "markdown",
   "metadata": {},
   "source": [
    "TODO fill"
   ]
  },
  {
   "cell_type": "markdown",
   "metadata": {},
   "source": [
    "# Problem 2: Sampling from GP posterior given data"
   ]
  },
  {
   "cell_type": "markdown",
   "metadata": {},
   "source": [
    "## Implementing the posterior"
   ]
  },
  {
   "cell_type": "code",
   "execution_count": 11,
   "metadata": {},
   "outputs": [],
   "source": [
    "def calc_posterior_params__mean_G_and_cov_GG(\n",
    "        x_train_N,\n",
    "        y_train_N,\n",
    "        x_test_G,\n",
    "        mean_func=None,\n",
    "        cov_func=None,\n",
    "        sigma=0.1,\n",
    "        **kernel_kwargs):\n",
    "    \"\"\" Compute parameters of Gaussian posterior over function value at G provided inputs\n",
    "    \n",
    "    Args\n",
    "    ----\n",
    "    x_train_N : 1D array, size n_train_pts (N)\n",
    "    y_train_N : 1D array, size n_train_pts (N)\n",
    "    x_grid_G : 1D array, size n_grid_pts (G)\n",
    "    \n",
    "    Returns\n",
    "    -------\n",
    "    mean_G : 1D array, size G\n",
    "        Posterior mean vector\n",
    "    cov_GG : 2D array, size G x G\n",
    "        Posterior covariance matrix\n",
    "    \n",
    "    References\n",
    "    ----------\n",
    "    Alg. 2.1 of GPML book by Rasmussen and Williams\n",
    "    http://www.gaussianprocess.org/gpml/chapters/RW2.pdf#page=13\n",
    "    \"\"\"\n",
    "    N = x_train_N.shape[0]\n",
    "    G = x_test_G.shape[0]\n",
    "\n",
    "    mean_G = np.ones(G) # TODO fixme\n",
    "    cov_GG = np.eye(G) # TODO fixme\n",
    "    \n",
    "    return mean_G, cov_GG"
   ]
  },
  {
   "cell_type": "code",
   "execution_count": 12,
   "metadata": {},
   "outputs": [],
   "source": [
    "def draw_sample_of_f_from_GP_posterior_at_x_grid(\n",
    "        x_train_N, y_train_N,\n",
    "        x_grid_G, mean_func, cov_func,\n",
    "        kernel_kwargs={},\n",
    "        sigma=0.1,\n",
    "        random_seed=42,\n",
    "        n_samples=1):\n",
    "    \"\"\" Draw sample from GP posterior given data and mean/cov functions\n",
    "\n",
    "    Args\n",
    "    ----\n",
    "    x_train_N : 1D array, size n_train_pts (N)\n",
    "        Contains observed inputs of each of the N training points\n",
    "    y_train_N : 1D array, size n_train_pts (N)\n",
    "        Contains observed outputs of each of the N training points\n",
    "    x_grid_G : 1D array, size n_grid_pts (G)\n",
    "        Contains G specific x_i values to evaluate function at\n",
    "    mean_func : function, maps (1D arr size A) to (1D arr size A)\n",
    "        Computes mean value $m(x_i)$ at each input x_i value \n",
    "    cov_func : function, maps (1D arr size A, 1D arr size B) to (2D AxB)\n",
    "        Computes covariance (kernel) value at each pair of inputs.\n",
    "    sigma : scalar float\n",
    "        Standard deviation of the likelihood of observations y given f\n",
    "    random_seed : int\n",
    "        Seed for the random number generator\n",
    "    n_samples : int\n",
    "        Number of samples to draw from the prior\n",
    "\n",
    "    Returns\n",
    "    -------\n",
    "    f_SG : 2D array, n_samples (S) x n_grid_pts (G)\n",
    "        Contains sampled function values at each point of x_grid\n",
    "    \"\"\"\n",
    "    mean_G, cov_GG = calc_posterior_params__mean_G_and_cov_GG(\n",
    "        x_train_N, y_train_N, x_grid_G, mean_func, cov_func, sigma, **kernel_kwargs)\n",
    "\n",
    "    prng = np.random.RandomState(int(random_seed))\n",
    "    f_SG = np.arange(S).reshape((S,1)) * np.ones((S, G)) # TODO FIX use prng.multivariate_normal(...)\n",
    "    return f_SG"
   ]
  },
  {
   "cell_type": "markdown",
   "metadata": {},
   "source": [
    "## Load training data"
   ]
  },
  {
   "cell_type": "code",
   "execution_count": 13,
   "metadata": {},
   "outputs": [],
   "source": [
    "train_csv_df = pd.read_csv('avg_deaths_per_day_in_middlesex_ma_2021__train.csv')"
   ]
  },
  {
   "cell_type": "code",
   "execution_count": 14,
   "metadata": {},
   "outputs": [],
   "source": [
    "x_train_N = np.asarray(train_csv_df['days_since_211207'].values, dtype=np.float64)\n",
    "y_train_N = np.asarray(train_csv_df['deaths_avg'].values, dtype=np.float64)\n",
    "\n",
    "N = y_train_N.size"
   ]
  },
  {
   "cell_type": "code",
   "execution_count": 15,
   "metadata": {},
   "outputs": [
    {
     "data": {
      "image/png": "[encoded data removed]",
      "text/plain": [
       "<Figure size 432x288 with 1 Axes>"
      ]
     },
     "metadata": {
      "needs_background": "light"
     },
     "output_type": "display_data"
    }
   ],
   "source": [
    "plt.subplots(nrows=1,ncols=1,figsize=(W,H));\n",
    "plt.plot(x_train_N, y_train_N, 'ks');\n",
    "plt.ylim([0, 4.99]);\n",
    "plt.xlim([-200, 100]);\n",
    "plt.xticks(np.arange(-180, 91, 30), fontsize=15);\n",
    "plt.xlabel('days before/after Dec. 7, 2021');\n",
    "plt.ylabel('avg. deaths / day');\n",
    "plt.title('COVID-19 deaths in Middlesex County, MA');"
   ]
  },
  {
   "cell_type": "markdown",
   "metadata": {},
   "source": [
    "## Problem 2a: Plots of posterior samples with SqExp kernel\n",
    "\n",
    "We'll draw a vertical red line at $x'=20$, which a few later questions ask about."
   ]
  },
  {
   "cell_type": "code",
   "execution_count": 16,
   "metadata": {},
   "outputs": [],
   "source": [
    "G = 501\n",
    "x_grid_G = np.linspace(-200, 150, G)"
   ]
  },
  {
   "cell_type": "code",
   "execution_count": 17,
   "metadata": {},
   "outputs": [
    {
     "data": {
      "image/png": "[encoded data removed]",
      "text/plain": [
       "<Figure size 1296x864 with 9 Axes>"
      ]
     },
     "metadata": {
      "needs_background": "light"
     },
     "output_type": "display_data"
    }
   ],
   "source": [
    "n_samples = 3\n",
    "\n",
    "ell_list = [4.0, 16.0, 64.]\n",
    "ncols = len(ell_list)\n",
    "\n",
    "sigma_list = [0.1, 0.5, 2.5]\n",
    "nrows = len(sigma_list)\n",
    "\n",
    "fig_h, ax_grid_RC = plt.subplots(\n",
    "    nrows=nrows, ncols=ncols, sharex=True, sharey=True,\n",
    "    figsize=(ncols*W,nrows*H))\n",
    "for cc, L in enumerate(ell_list):\n",
    "    for rr, sigma in enumerate(sigma_list):\n",
    "        f_grid_SG = draw_sample_of_f_from_GP_posterior_at_x_grid(\n",
    "            x_train_N, y_train_N,\n",
    "            x_grid_G,\n",
    "            mean_func, sqexp_kernel_func,\n",
    "            sigma=sigma,\n",
    "            kernel_kwargs=dict(L=L),\n",
    "            n_samples=n_samples)\n",
    "        \n",
    "        # Show the training data as dark (but not too dark) dots\n",
    "        cur_ax_h = ax_grid_RC[rr,cc]\n",
    "        cur_ax_h.plot(\n",
    "            x_train_N, y_train_N, 'k.',\n",
    "            markersize=12, mew=0, alpha=0.85)\n",
    "        \n",
    "        # Show a vertical line at x=+20, which we'll ask about later\n",
    "        x_20_H = [20, 20]\n",
    "        y_20_H = [-3, 10]\n",
    "        cur_ax_h.plot(\n",
    "            x_20_H, y_20_H, 'r--', alpha=0.5)\n",
    "        \n",
    "        # Show the 3 samples from the posterior\n",
    "        plot_f_samples_at_x_grid(\n",
    "            x_grid_G,\n",
    "            f_grid_SG,\n",
    "            axis_handle=cur_ax_h\n",
    "            )\n",
    "        \n",
    "        title_str = r'$L{=}%.2f~~\\sigma{=}%.1f$' % (L, sigma)\n",
    "        cur_ax_h.set_title(title_str)\n",
    "        \n",
    "        # Make the plot look pretty. Please don't adjust!\n",
    "        cur_ax_h.set_ylim([-2, 6.99]);\n",
    "        cur_ax_h.set_xlim([-200, 130]);\n",
    "        cur_ax_h.set_xticks(np.arange(-180, 121, 60));\n",
    "        if rr == 2:\n",
    "            cur_ax_h.set_xlabel('days before/after Dec. 7, 2021');\n",
    "        if cc == 0:\n",
    "            cur_ax_h.set_ylabel('avg. deaths / day');"
   ]
  },
  {
   "cell_type": "markdown",
   "metadata": {},
   "source": [
    "## Problem 2b: Provide the numerical values of the posterior mean/variance at f(20) for 3 settings\n",
    "\n",
    "TODO"
   ]
  },
  {
   "cell_type": "markdown",
   "metadata": {},
   "source": [
    "## Problem 2c: Provide a math formula for the 95% confidence interval of the posterior over y(20)\n",
    "\n",
    "**Hint: We said y not f**\n",
    "\n",
    "TODO you can write math like this:\n",
    "\n",
    "$$\n",
    "    (a + b, a - b)\n",
    "$$"
   ]
  },
  {
   "cell_type": "markdown",
   "metadata": {},
   "source": [
    "## Problem 2d: Which of these settings (if any) appear to be good models for the actual observations on day 20?\n",
    "\n",
    "**Q:** Do any of these settings appear to be a good fit for the actual observed value on day 20? Hint: see the until-now unused \"test\" data in `avg_deaths_per_day_in_middlesex_ma_2021__test.csv`?\n",
    "\n",
    "TODO"
   ]
  },
  {
   "cell_type": "markdown",
   "metadata": {},
   "source": [
    "## Problem 2e: Comment on interpolation\n",
    "\n",
    "**Short answer (1-3 sentences): Fix $\\sigma=0.1$ (the first row in your plot from 2a). What happens to the posterior samples of $f$ around $x=-50$ that differs across the largest and smallest choices of lengthscale $L$? Why?**"
   ]
  },
  {
   "cell_type": "markdown",
   "metadata": {},
   "source": [
    "TODO"
   ]
  },
  {
   "cell_type": "markdown",
   "metadata": {},
   "source": [
    "## Problem 2f: Comment on Near-term extrapolation\n",
    "\n",
    "**Q:** Which of the parameter settings in the 3x3 panel plot from 2a seem to offer the best predictions for the near-term future of the next month or so (days x = 1, 2, .... 30)? Why?\n",
    "\n",
    "TODO"
   ]
  },
  {
   "cell_type": "markdown",
   "metadata": {},
   "source": [
    "## Problem 2g: Comment on Far Extrapolation\n",
    "\n",
    "**Q:** What will be the posterior mean / variance of f(x) at x = +365, using $L=16$ and $\\sigma=0.1$? Please make an argument that leans on conceptual intuition to explain why, do not only plug-and-chug with a formula.\n",
    "\n",
    "TODO"
   ]
  },
  {
   "cell_type": "markdown",
   "metadata": {},
   "source": [
    "## Problem 2h. How would you specify the GP prior so that the posterior mean was around 2 and the variance was around 4?"
   ]
  },
  {
   "cell_type": "markdown",
   "metadata": {},
   "source": [
    "TODO write equations"
   ]
  },
  {
   "cell_type": "code",
   "execution_count": null,
   "metadata": {},
   "outputs": [],
   "source": []
  }
 ],
 "metadata": {
  "kernelspec": {
   "display_name": "Python 3 (ipykernel)",
   "language": "python",
   "name": "python3"
  },
  "language_info": {
   "codemirror_mode": {
    "name": "ipython",
    "version": 3
   },
   "file_extension": ".py",
   "mimetype": "text/x-python",
   "name": "python",
   "nbconvert_exporter": "python",
   "pygments_lexer": "ipython3",
   "version": "3.8.0"
  }
 },
 "nbformat": 4,
 "nbformat_minor": 2
}
